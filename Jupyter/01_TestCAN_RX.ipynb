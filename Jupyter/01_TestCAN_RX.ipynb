{
 "cells": [
  {
   "cell_type": "markdown",
   "metadata": {},
   "source": [
    "# <center> Lab 3-1: Test Receive CAN\n",
    "## <center> ENGR 580A2: Secure Vehicle and Industrial Networking\n",
    "## <center><img src=\"https://www.engr.colostate.edu/~jdaily/Systems-EN-CSU-1-C357.svg\" width=\"600\" />\n",
    "### <center> Instructor: Dr. Jeremy Daily<br>Fall 2020"
   ]
  },
  {
   "cell_type": "markdown",
   "metadata": {},
   "source": [
    "## Prerequisites\n",
    "Login tip: Send a keepalive signal every 60 seconds from the connection menu of PuTTy.\n",
    "\n",
    "This notebook must be run on a Linux machine with SocketCAN enabled.\n",
    "```\n",
    "sudo ip link add dev vcan1 type vcan\n",
    "sudo ip link set vcan1 up\n",
    "```\n",
    "\n",
    "If you are running from PuTTy through Windows, then be sure to start the Jupyter server with the following commands:\n",
    "\n",
    "```\n",
    "jupyter notebook --ip cybertruck1.engr.colostate.edu --no-browser\n",
    "```\n",
    "\n",
    "or for the Beagle Bone Black connected by USB:\n",
    "```\n",
    "jupyter notebook --ip 192.168.7.2 --no-browser\n",
    "```\n",
    "Once these commands are successful, there will be a tokenize URL to paste into your browser. Note: this is not a secure connection, so be sure you are behind a firewall.\n",
    "\n",
    "\n",
    "Be sure can-utils is installed:\n",
    "```\n",
    "sudo apt install can-utils\n",
    "```\n",
    "\n",
    "Here is a CAN trace to examine:\n",
    "\n",
    "https://www.engr.colostate.edu/~jdaily/J1939/files/candump_DDEC_key_off-on_engine_running_request_on.txt\n",
    "\n",
    "Let's add the CAN trace to the home directory:\n",
    "\n",
    "```\n",
    "wget https://www.engr.colostate.edu/~jdaily/J1939/files/candump_DDEC_key_off-on_engine_running_request_on.txt\n",
    "```\n",
    "\n",
    "Add a virtual can interface:\n",
    "\n",
    "```\n",
    "sudo ip link add dev vcan1 type vcan\n",
    "sudo ip link set vcan1 up\n",
    "```\n",
    "\n",
    "Set canplayer to play an infinite loop of the CAN log in the background. Once this is going, you can logout of the machine and the vcan1 interface will still have data.\n",
    "\n",
    "```\n",
    "canplayer -l i -I candump_DDEC_key_off-on_engine_running_request_on.txt vcan1=can1 &\n",
    "```\n",
    "\n",
    "Ideally, the canplayer command will be run from a screen that can be detached from an SSH session. \n",
    "\n",
    "https://linoxide.com/linux-how-to/keep-processes-running-ssh-logout-linux/"
   ]
  },
  {
   "cell_type": "markdown",
   "metadata": {},
   "source": [
    "## Reference Material\n",
    "from https://www.kernel.org/doc/html/latest/networking/can.html#the-virtual-can-driver-vcan \n",
    "```\n",
    "struct can_frame {\n",
    "        canid_t can_id;  /* 32 bit CAN_ID + EFF/RTR/ERR flags */\n",
    "        __u8    can_dlc; /* frame payload length in byte (0 .. 8) */\n",
    "        __u8    __pad;   /* padding */\n",
    "        __u8    __res0;  /* reserved / padding */\n",
    "        __u8    __res1;  /* reserved / padding */\n",
    "        __u8    data[8] __attribute__((aligned(8)));\n",
    "};\n",
    "```\n",
    "\n",
    "Copy and modify the code from here to injest CAN data.\n",
    "https://www.engr.colostate.edu/~jdaily/J1939/tools.html\n",
    "\n"
   ]
  },
  {
   "cell_type": "code",
   "execution_count": 1,
   "metadata": {},
   "outputs": [
    {
     "name": "stdout",
     "output_type": "stream",
     "text": [
      "vcan0 18F0000F [8] F0 7D FF FF 0F 7D 00 19\n",
      "vcan0 18FEF200 [8] 2D 00 2E 0A 0D 06 00 FF\n",
      "vcan0 18FEE000 [8] FF FF FF FF 54 97 5E 00\n",
      "vcan0 0CF00400 [8] 70 7D 83 46 14 00 F0 FF\n",
      "vcan0 08FE6E0B [8] E0 09 80 09 C0 09 60 09\n",
      "vcan0 0CF00400 [8] 70 7D 83 46 14 00 F0 FF\n",
      "vcan0 0CF00400 [8] 70 7D 83 40 14 00 F0 FF\n",
      "vcan0 18F0010B [8] C0 FF F0 FF FF 0D FF FF\n",
      "vcan0 08FE6E0B [8] 00 0A 40 09 C0 09 60 09\n",
      "vcan0 0CF00331 [8] FF FF FF FF FF FF FF FF\n",
      "vcan0 0CF00400 [8] 70 7D 83 40 14 00 F0 FF\n",
      "vcan0 18FEBF0B [8] C0 09 81 79 7B 73 7D 77\n",
      "vcan0 0CF00400 [8] 70 7D 83 40 14 00 F0 FF\n",
      "vcan0 0CF00300 [8] F1 00 0B FF FF FC FF FF\n",
      "vcan0 18FEBF0B [8] 70 09 84 76 80 78 84 7A\n",
      "vcan0 08FE6E0B [8] E0 09 00 09 A0 09 20 09\n",
      "vcan0 0CF00400 [8] 70 7D 83 46 14 00 F0 FF\n",
      "vcan0 0CF00400 [8] 70 7D 83 46 14 00 F0 FF\n",
      "vcan0 08FE6E0B [8] 00 0A 20 09 A0 09 00 09\n",
      "vcan0 0CF00400 [8] 70 7D 83 46 14 00 F0 FF\n",
      "vcan0 18F00131 [8] FF FF FF 3F 00 FF FF FF\n",
      "vcan0 18FEF131 [8] F3 FF FF 57 CC FF FF FF\n",
      "vcan0 18FEF031 [8] FF FF FF FF FF FF FF FF\n",
      "vcan0 18FEF231 [8] FF FF FF FF 9A 44 FF FF\n",
      "vcan0 0CF00331 [8] FF FF FF FF FF FF FF FF\n"
     ]
    }
   ],
   "source": [
    "#!/usr/bin/python3\n",
    "import socket\n",
    "import struct\n",
    "import time\n",
    "\n",
    "# Open a socket and bind to it from SocketCAN\n",
    "sock = socket.socket(socket.PF_CAN, socket.SOCK_RAW, socket.CAN_RAW)\n",
    "interface = \"vcan0\"\n",
    "\n",
    "# Bind to the interface\n",
    "sock.bind((interface,))\n",
    "\n",
    "# To match this data structure, the following struct format can be used:\n",
    "can_frame_format = \"<lB3x8s\"\n",
    "\n",
    "# Write date to a local log file.\n",
    "with open(\"candump_python.log\", 'w') as outfile:\n",
    "    for i in range(25):\n",
    "        can_packet = sock.recv(16)\n",
    "        can_id, can_dlc, can_data = struct.unpack(can_frame_format, can_packet)\n",
    "        extended_frame = bool(can_id & socket.CAN_EFF_FLAG)\n",
    "        if extended_frame:\n",
    "            can_id &= socket.CAN_EFF_MASK\n",
    "            can_id_string = \"{:08X}\".format(can_id)\n",
    "        else: #Standard Frame\n",
    "            can_id &= socket.CAN_SFF_MASK\n",
    "            can_id_string = \"{:03X}\".format(can_id)\n",
    "        hex_data_string = ' '.join([\"{:02X}\".format(b) for b in can_data[:can_dlc]])\n",
    "        print(\"{} {} [{}] {}\".format(interface, can_id_string, can_dlc, hex_data_string))\n",
    "        outfile.write(\"({:12.6f}) {} {}#{}\\n\".format(time.time(),\n",
    "                                                     interface, \n",
    "                                                     can_id_string, \n",
    "                                                     hex_data_string.replace(\" \",\"\")))"
   ]
  },
  {
   "cell_type": "markdown",
   "metadata": {},
   "source": [
    "The messages shown above should change based on where we are in the drive cycle. If there is no output and the indicator says In \\[*], then can socket is blocking because there is no data. "
   ]
  },
  {
   "cell_type": "code",
   "execution_count": null,
   "metadata": {},
   "outputs": [],
   "source": []
  }
 ],
 "metadata": {
  "kernelspec": {
   "display_name": "Python 3",
   "language": "python",
   "name": "python3"
  },
  "language_info": {
   "codemirror_mode": {
    "name": "ipython",
    "version": 3
   },
   "file_extension": ".py",
   "mimetype": "text/x-python",
   "name": "python",
   "nbconvert_exporter": "python",
   "pygments_lexer": "ipython3",
   "version": "3.8.5"
  }
 },
 "nbformat": 4,
 "nbformat_minor": 4
}
