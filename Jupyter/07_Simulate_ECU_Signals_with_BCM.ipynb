{
 "cells": [
  {
   "cell_type": "markdown",
   "metadata": {},
   "source": [
    "# <center> Lab 5-1: SocketCAN Broadcast Manager\n",
    "## <center> ENGR 580A2: Secure Vehicle and Industrial Networking\n",
    "## <center><img src=\"https://www.engr.colostate.edu/~jdaily/Systems-EN-CSU-1-C357.svg\" width=\"600\" />\n",
    "### <center> Instructor: Dr. Jeremy Daily<br>Fall 2020"
   ]
  },
  {
   "cell_type": "markdown",
   "metadata": {},
   "source": [
    "## Prerequisites\n",
    "This notebook must be run on Linux with SocketCAN installed and running. If you can login to the command prompt, check for SocketCAN using `lsmod` as in the following:\n",
    "```\n",
    "debian@beaglebone:~$ lsmod | grep can\n",
    "can_bcm                24576  1\n",
    "can_raw                20480  0\n",
    "vcan                   16384  0\n",
    "```\n",
    "This shows three CAN based kernel modules: one for BroadCast Manager (BCM), one for single CAN frames (RAW), and a virtual CAN module (vcan).\n",
    "\n",
    "This notebook should be run with a jupyter server on the Linux machine. For example, if using the BeagleBone, start the server with the following command:\n",
    "```\n",
    "jupyter notebook --ip 192.168.7.2 --no-browser &\n",
    "```\n",
    "The `&` symbol runs the notebook server in the background.\n"
   ]
  },
  {
   "cell_type": "markdown",
   "metadata": {},
   "source": [
    "# Using the Broadcast Manager (BCM)\n",
    "The broadcast manager in SocketCAN is helpful in setting up periodic messages. It takes away the timing and loop requirements for the programmer and relegates it to the kernel module. This enables a programmer to focus on the sensing and simulation parts of the program instead of the messaging. \n",
    "\n",
    "This example goes through transmitting a wheel speed message using the BCM.\n",
    "\n",
    "Details and Reference:\n",
    "\n",
    "https://github.com/nebaruzdin/can-doc/blob/master/can-bcm.txt\n"
   ]
  },
  {
   "cell_type": "markdown",
   "metadata": {},
   "source": [
    "## Create a BCM Socket\n",
    "First, load the modules. Then, let's define the socket. BCM sockets are connected to, instead of being bound. \n",
    "\n",
    "We'll also define the data structures for the BCM header and the CAN Frame. From https://www.kernel.org/doc/Documentation/networking/can.txt:\n",
    "```\n",
    "   struct bcm_msg_head {\n",
    "            __u32 opcode;                   /* command */\n",
    "            __u32 flags;                    /* special flags */\n",
    "            __u32 count;                    /* run 'count' times with ival1 */\n",
    "            struct timeval ival1, ival2;    /* count and subsequent interval */\n",
    "            canid_t can_id;                 /* unique can_id for task */\n",
    "            __u32 nframes;                  /* number of can_frames following */\n",
    "            struct can_frame frames[0];\n",
    "    };\n",
    " ```\n",
    " and\n",
    " ```\n",
    "   struct can_frame {\n",
    "            canid_t can_id;  /* 32 bit CAN_ID + EFF/RTR/ERR flags */\n",
    "            __u8    can_dlc; /* frame payload length in byte (0 .. 8) */\n",
    "            __u8    __pad;   /* padding */\n",
    "            __u8    __res0;  /* reserved / padding */\n",
    "            __u8    __res1;  /* reserved / padding */\n",
    "            __u8    data[8] __attribute__((aligned(8)));\n",
    "    };\n",
    "```"
   ]
  },
  {
   "cell_type": "code",
   "execution_count": 1,
   "metadata": {},
   "outputs": [],
   "source": [
    "#Import\n",
    "import socket\n",
    "import struct"
   ]
  },
  {
   "cell_type": "code",
   "execution_count": 2,
   "metadata": {},
   "outputs": [],
   "source": [
    "# Open a socket and connect to it\n",
    "sock = socket.socket(socket.PF_CAN, socket.SOCK_DGRAM, socket.CAN_BCM)\n",
    "\n",
    "#Change this interface to match your desired connection\n",
    "interface = \"vcan0\"\n",
    "\n",
    "#Connect to the interface\n",
    "sock.connect((interface,))\n",
    "\n",
    "# To match the socketCAN BCM header data structure, the following struct format can be used:\n",
    "# Interval seconds and useconds are platform dependent, others are 'uint32'. \n",
    "# Pad bytes are required at the end. This padding is not documented very well.\n",
    "bcm_frame_format = \"@3I4l2I0q\"\n",
    "\n",
    "# To match the socketCAN CAN frame structure, the following struct format can be used:\n",
    "can_frame_format = \"<lB3x8s\""
   ]
  },
  {
   "cell_type": "markdown",
   "metadata": {},
   "source": [
    "### Message Creation\n",
    "Let's simulate a brake controller broadcasting independent wheel speeds on the J1939 network. Based on the SAE J1939 Digital Annex, we have the following PGN and SPNs:\n",
    "\n",
    "\n",
    "| PGN | PG Label | PG Acronym | EDP | DP | PF | PS | Multipacket | Transmission Rate | PG Data Length | Default Priority |\n",
    "| :-: | :-: | :-: | :-: | :-: | :-: | :-: | :-: | :-: | :-: | :-: |\n",
    "| 65134 | High Resolution Wheel Speed | HRW | 0 | 0 | 254 | 110 | No | 20 ms | 8 | 2 |\n",
    "\n",
    "| SP Position in PG | SPN | SP Label | SP Description | SP Length | Resolution | Offset | Data Range |\n",
    "| :-: | :-: | :-- | :-- | :-: | :-: | :-: | :-: | \n",
    "| 1-2 | 1592 | Front Axle, Left Wheel Speed | High resolution measurement of the speed of the left wheel on the front axle. | 2 bytes | 1/256 km/h per bit | 0 | 0 to 250.996 km/h |\n",
    "| 3-4 | 1593 | Front Axle, Right Wheel Speed | High resolution measurement of the speed of the right wheel on the front axle. | 2 bytes | 1/256 km/h per bit | 0 | 0 to 250.996 km/h |\n",
    "| 5-6 | 1594 | Rear Axle, Left Wheel Speed | High resolution measurement of the speed of the left wheel on the rear axle. | 2 bytes | 1/256 km/h per bit | 0 | 0 to 250.996 km/h |\n",
    "| 7-8 | 1595 | Rear Axle, Left Wheel Speed | High resolution measurement of the speed of the left wheel on the rear axle. | 2 bytes | 1/256 km/h per bit | 0 | 0 to 250.996 km/h |\n",
    "\n",
    "The prefered source address is 11 (0x0B) for the Brake System Controller."
   ]
  },
  {
   "cell_type": "code",
   "execution_count": 3,
   "metadata": {},
   "outputs": [
    {
     "name": "stdout",
     "output_type": "stream",
     "text": [
      "The CAN ID for HRW Broadcast is 0x08FE6E0B\n"
     ]
    }
   ],
   "source": [
    "# Since PF is > 240, we can craft the message ID for broadcast using the PDU2 format. This \n",
    "# means we assume the DA is global and the PGN uses two bytes in the ID.\n",
    "# Convert these J1939 elements into an extended CAN ID.\n",
    "priority = 2\n",
    "pgn = 65134\n",
    "sa = 11\n",
    "HRW_ID = priority << 26\n",
    "HRW_ID += pgn << 8\n",
    "HRW_ID += sa\n",
    "print(\"The CAN ID for HRW Broadcast is 0x{:08X}\".format(HRW_ID))"
   ]
  },
  {
   "cell_type": "code",
   "execution_count": 4,
   "metadata": {},
   "outputs": [
    {
     "name": "stdout",
     "output_type": "stream",
     "text": [
      "b'\\x01\\x00:d\\xe0\\x966\\xc8'\n"
     ]
    }
   ],
   "source": [
    "# Let's define some arbitrary SPNs\n",
    "SPN_1592 = 1/256 #Front Axle, Left Wheel Speed in km/h\n",
    "SPN_1593 = 100.23 #Front Axle, Right Wheel Speed in km/h\n",
    "SPN_1594 = 150.8787 #Rear Axle, Left Wheel Speed in km/h\n",
    "SPN_1595 = 200.213409576234 #Rear Axle, Right Wheel Speed in km/h\n",
    "\n",
    "# Based on the resolution, we need to create an 8-byte data frame\n",
    "# Apply the inverse of the resolution, then encode the integer into an \n",
    "# Intel formatted 2-byte unsigned integer.\n",
    "HRW_data = struct.pack('<4H', int(SPN_1592*256),\n",
    "                              int(SPN_1593*256),\n",
    "                              int(SPN_1594*256),\n",
    "                              int(SPN_1595*256),\n",
    "                      )\n",
    "print(HRW_data)"
   ]
  },
  {
   "cell_type": "code",
   "execution_count": 5,
   "metadata": {},
   "outputs": [
    {
     "name": "stdout",
     "output_type": "stream",
     "text": [
      "b'\\x0bn\\xfe\\x88\\x08\\x00\\x00\\x00\\x01\\x00:d\\xe0\\x966\\xc8'\n"
     ]
    }
   ],
   "source": [
    "# Now we can create a CAN Frame. This is the same as if we used CAN_RAW\n",
    "\n",
    "#Set the extended frame format bit.\n",
    "can_id = HRW_ID | socket.CAN_EFF_FLAG\n",
    "\n",
    "#The data length code cannot be larger than 8\n",
    "can_dlc = len(HRW_data)\n",
    "\n",
    "#Pack the information into 16 bytes\n",
    "can_packet = struct.pack(can_frame_format, can_id, can_dlc, HRW_data)\n",
    "print(can_packet)"
   ]
  },
  {
   "cell_type": "markdown",
   "metadata": {},
   "source": [
    "### Create the BCM Header\n",
    "The BCM header has the following elements:\n",
    "* opcode\n",
    "* message flag\n",
    "* count\n",
    "* timing intervals\n",
    "* unique CAN ID for task\n",
    "* number of CAN frames\n",
    "\n",
    "The number of CAN frames is the number of frames that are attached to the overall BCM data structure. The BCM method enables not just the simple periodic single can frame, but finite bursts of multi-frame messages. We'll start simple, then work towards a more complete example.\n",
    "\n",
    "Let's start with setting up a transmit BCM:\n",
    "\n",
    "#### Op-Codes\n",
    "From https://www.kernel.org/doc/Documentation/networking/can.txt, the following opcodes are defined:\n",
    "\n",
    "Transmit Operations (user space to broadcast manager):\n",
    "\n",
    "    TX_SETUP:   Create (cyclic) transmission task.\n",
    "\n",
    "    TX_DELETE:  Remove (cyclic) transmission task, requires only can_id.\n",
    "\n",
    "    TX_READ:    Read properties of (cyclic) transmission task for can_id.\n",
    "\n",
    "    TX_SEND:    Send one CAN frame.\n",
    "\n",
    "  Transmit Responses (broadcast manager to user space):\n",
    "\n",
    "    TX_STATUS:  Reply to TX_READ request (transmission task configuration).\n",
    "\n",
    "    TX_EXPIRED: Notification when counter finishes sending at initial interval\n",
    "      'ival1'. Requires the TX_COUNTEVT flag to be set at TX_SETUP.\n",
    "\n",
    "  \n",
    " #### Message Flags\n",
    " From https://www.kernel.org/doc/Documentation/networking/can.txt, the following flags are defined:\n",
    "\n",
    "    SETTIMER:           Set the values of ival1, ival2 and count\n",
    "\n",
    "    STARTTIMER:         Start the timer with the actual values of ival1, ival2\n",
    "      and count. Starting the timer leads simultaneously to emit a CAN frame.\n",
    "\n",
    "    TX_COUNTEVT:        Create the message TX_EXPIRED when count expires\n",
    "\n",
    "    TX_ANNOUNCE:        A change of data by the process is emitted immediately.\n",
    "\n",
    "    TX_CP_CAN_ID:       Copies the can_id from the message header to each\n",
    "      subsequent frame in frames. This is intended as usage simplification. For\n",
    "      TX tasks the unique can_id from the message header may differ from the\n",
    "      can_id(s) stored for transmission in the subsequent struct can_frame(s).\n",
    "\n",
    "    TX_RESET_MULTI_IDX: Reset the index for the multiple frame transmission.\n",
    "    \n",
    "Definitions in python are published here:\n",
    "https://github.com/caran/can4python/blob/4177bcf4368fd8484ec080e2d926cb999b14c6a5/can4python/constants.py#L72\n"
   ]
  },
  {
   "cell_type": "code",
   "execution_count": 6,
   "metadata": {},
   "outputs": [],
   "source": [
    "# BCM flags\n",
    "SETTIMER = 0x0001\n",
    "STARTTIMER = 0x0002\n",
    "TX_COUNTEVT = 0x0004\n",
    "TX_ANNOUNCE = 0x0008\n",
    "TX_CP_CAN_ID = 0x0010\n",
    "RX_FILTER_ID = 0x0020\n",
    "RX_CHECK_DLC = 0x0040\n",
    "RX_NO_AUTOTIMER = 0x0080\n",
    "RX_ANNOUNCE_RESUME = 0x0100\n",
    "TX_RESET_MULTI_IDX = 0x0200\n",
    "RX_RTR_FRAME = 0x0400\n",
    "CAN_FD_FRAME = 0x0800"
   ]
  },
  {
   "cell_type": "markdown",
   "metadata": {},
   "source": [
    "### Create the BCM message and Data Structure"
   ]
  },
  {
   "cell_type": "code",
   "execution_count": 7,
   "metadata": {},
   "outputs": [
    {
     "name": "stdout",
     "output_type": "stream",
     "text": [
      "b'\\x01\\x00\\x00\\x00\\x03\\x00\\x00\\x00\\x00\\x00\\x00\\x00\\x00\\x00\\x00\\x00\\x00\\x00\\x00\\x00\\x00\\x00\\x00\\x00 N\\x00\\x00\\x0bn\\xfe\\x08\\x01\\x00\\x00\\x00\\x00\\x00\\x00\\x00'\n"
     ]
    }
   ],
   "source": [
    "# Create the BCM Header\n",
    "\n",
    "opcode = socket.CAN_BCM_TX_SETUP\n",
    "flags = SETTIMER | STARTTIMER # These flags set and start the timers for broadcast.\n",
    "count = 0 # When only one timer is needed 'count' is set to zero and only 'ival2' is used.\n",
    "ival1_tv_sec  = 0 # Seconds\n",
    "ival1_tv_usec = 0 # Microseconds\n",
    "ival2_tv_sec  = 0  # Seconds\n",
    "ival2_tv_usec = 20000 # Microseconds (20 ms per J1939)\n",
    "can_id = HRW_ID\n",
    "nframes = 1 # Append a single CAN frame to the end the setup.\n",
    "\n",
    "bcm_frame = struct.pack(bcm_frame_format,\n",
    "                        opcode,\n",
    "                        flags,\n",
    "                        count,\n",
    "                        ival1_tv_sec,\n",
    "                        ival1_tv_usec,\n",
    "                        ival2_tv_sec,\n",
    "                        ival2_tv_usec,\n",
    "                        can_id,\n",
    "                        nframes)\n",
    "print(bcm_frame)                        "
   ]
  },
  {
   "cell_type": "code",
   "execution_count": 8,
   "metadata": {},
   "outputs": [
    {
     "data": {
      "text/plain": [
       "56"
      ]
     },
     "execution_count": 8,
     "metadata": {},
     "output_type": "execute_result"
    }
   ],
   "source": [
    "#Send out the BCM Message. This will get the message going.\n",
    "# The return value is the number of bytes sent to the socket.\n",
    "sock.send(bcm_frame+can_packet)"
   ]
  },
  {
   "cell_type": "markdown",
   "metadata": {},
   "source": [
    "In a terminal, you can see the output on the virtual CAN channel:\n",
    "```\n",
    "debian@beaglebone:~/TruckCapeProjects$ candump -tz vcan1\n",
    " (000.000000)  vcan1  08FE6E0B   [8]  01 00 3A 64 E0 96 36 C8\n",
    " (000.020063)  vcan1  08FE6E0B   [8]  01 00 3A 64 E0 96 36 C8\n",
    " (000.040123)  vcan1  08FE6E0B   [8]  01 00 3A 64 E0 96 36 C8\n",
    " (000.060174)  vcan1  08FE6E0B   [8]  01 00 3A 64 E0 96 36 C8\n",
    " (000.080227)  vcan1  08FE6E0B   [8]  01 00 3A 64 E0 96 36 C8\n",
    " (000.100280)  vcan1  08FE6E0B   [8]  01 00 3A 64 E0 96 36 C8\n",
    " (000.120332)  vcan1  08FE6E0B   [8]  01 00 3A 64 E0 96 36 C8\n",
    " (000.140410)  vcan1  08FE6E0B   [8]  01 00 3A 64 E0 96 36 C8\n",
    " (000.160465)  vcan1  08FE6E0B   [8]  01 00 3A 64 E0 96 36 C8\n",
    " (000.180511)  vcan1  08FE6E0B   [8]  01 00 3A 64 E0 96 36 C8\n",
    " (000.200556)  vcan1  08FE6E0B   [8]  01 00 3A 64 E0 96 36 C8\n",
    " (000.220608)  vcan1  08FE6E0B   [8]  01 00 3A 64 E0 96 36 C8\n",
    " (000.240657)  vcan1  08FE6E0B   [8]  01 00 3A 64 E0 96 36 C8\n",
    " (000.260705)  vcan1  08FE6E0B   [8]  01 00 3A 64 E0 96 36 C8\n",
    " (000.280786)  vcan1  08FE6E0B   [8]  01 00 3A 64 E0 96 36 C8\n",
    " (000.300835)  vcan1  08FE6E0B   [8]  01 00 3A 64 E0 96 36 C8\n",
    " (000.320887)  vcan1  08FE6E0B   [8]  01 00 3A 64 E0 96 36 C8\n",
    " (000.340940)  vcan1  08FE6E0B   [8]  01 00 3A 64 E0 96 36 C8\n",
    " (000.360991)  vcan1  08FE6E0B   [8]  01 00 3A 64 E0 96 36 C8\n",
    "```\n",
    "The `-tz` flag on the candump command shows a timestamp starting from zero in the parentheses. Notice the near 20ms timing. The data hasn't changed at all, because we haven't told it to change yet. "
   ]
  },
  {
   "cell_type": "markdown",
   "metadata": {},
   "source": [
    "### Update the Signals and SPNs\n",
    "Let's model a truck with Ackerman steering turning right. The truck will start from a stop and accelerate to a constant speed with the steering wheel turned all the way to the right. This is a low speed manuever and we'll assume no tire slip. All four wheels are turning around a common pivot point. A vector starting at the central pivot point describes the position to each wheel. We'll make a simplifing assumption that the angular velocity of all the wheel position vectors are the same.\n",
    "\n",
    "We'll give the truck the following made-up dimensions (in meters):\n",
    "\n",
    "Wheelbase = 6.0 \n",
    "\n",
    "Track Width = 4.0 \n",
    "\n",
    "Rolling radius = 1.5\n",
    "\n",
    "Distances from the Pivot:\n",
    "\n",
    "$ LR = 10.0 $, $ RR = 6.0 $, $ LF = 11.6 $, $ RF = 8.4 $, $ COM = 8.8 $, $ \\delta_R = 45 deg $, and $ \\delta_L = 32 deg $\n",
    "\n",
    "![AckermanGeometry.png](AckermanGeometry.png)\n",
    "\n",
    "Assume all vectors are constant length (i.e. circular motion) and the piviot is fixed.\n",
    "\n",
    "The speed at the end of any vector is \n",
    "$$ v_i = \\omega r_i $$\n",
    "where $\\omega$ is the angular velocity of the rotating vector, $r_i$ is the radius (length) of the vector and $v_i$ is the speed. We can calculate the angular velocity based on the speed of the center of mass and the position of the center of mass:\n",
    "\n",
    "$$ \\omega = \\frac{v_{COM}}{r_{COM}} $$\n",
    "\n",
    "Once we know $\\omega$, we can determine the angular velocities of the other wheels.\n",
    "\n",
    "$$v_i = \\omega r_i$$\n",
    "\n",
    "Note: on real systems, we use sensors at each wheel to measure actual speed. For this exercise, we are simulating a very simple case. \n",
    "\n",
    "Let's translate this into a Python function:"
   ]
  },
  {
   "cell_type": "code",
   "execution_count": 9,
   "metadata": {},
   "outputs": [],
   "source": [
    "# Produce wheel speeds based on turn radius and COM speed\n",
    "def wheel_speeds(com_speed,radii):\n",
    "    #omega is in radians per second\n",
    "    #radii is in meters\n",
    "    #speed is in km/h\n",
    "    #convert m/s to km/h by multiplying by 3.6. Why? 3600 seconds/hour divided by 1000 meters/km\n",
    "    omega = (com_speed / 3.6)  / radii['COM']\n",
    "    return(3.6*omega*radii['LF'],\n",
    "           3.6*omega*radii['RF'],\n",
    "           3.6*omega*radii['LR'],\n",
    "           3.6*omega*radii['RR'])\n",
    "# These align with the SPNs for the HRW PGN."
   ]
  },
  {
   "cell_type": "code",
   "execution_count": 10,
   "metadata": {},
   "outputs": [
    {
     "data": {
      "text/plain": [
       "(6.59090909090909, 4.7727272727272725, 5.681818181818182, 3.4090909090909087)"
      ]
     },
     "execution_count": 10,
     "metadata": {},
     "output_type": "execute_result"
    }
   ],
   "source": [
    "# If the steering angle changed or there was tire slip, these would change.\n",
    "# Assume constant for now.\n",
    "radii = {'COM': 8.8,\n",
    "         'LF': 11.6,\n",
    "         'RF': 8.4,\n",
    "         'LR': 10.0,\n",
    "         'RR': 6.0,\n",
    "        }\n",
    "com_speed = 5\n",
    "wheel_speeds(com_speed,radii)"
   ]
  },
  {
   "cell_type": "code",
   "execution_count": 11,
   "metadata": {},
   "outputs": [
    {
     "name": "stdout",
     "output_type": "stream",
     "text": [
      "b'\\x0bn\\xfe\\x88\\x08\\x00\\x00\\x00.\\r\\x8b\\t]\\x0b\\xd1\\x06'\n"
     ]
    }
   ],
   "source": [
    "# Write a function to take four wheel speeds and create the CAN message:\n",
    "def can_HRW_speeds(com_speed):\n",
    "    LF,RF,LR,RR = wheel_speeds(com_speed,radii)\n",
    "    HRW_data = struct.pack('<4H', int(LF*256),\n",
    "                                  int(RF*256),\n",
    "                                  int(LR*256),\n",
    "                                  int(RR*256))\n",
    "    #Set the extended frame format bit.\n",
    "    can_id = HRW_ID | socket.CAN_EFF_FLAG\n",
    "\n",
    "    #The data length code cannot be larger than 8\n",
    "    can_dlc = len(HRW_data)\n",
    "\n",
    "    #Pack the information into 16 bytes\n",
    "    can_packet = struct.pack(can_frame_format, can_id, can_dlc, HRW_data)\n",
    "    return can_packet\n",
    "print(can_HRW_speeds(10))"
   ]
  },
  {
   "cell_type": "code",
   "execution_count": 12,
   "metadata": {},
   "outputs": [
    {
     "name": "stdout",
     "output_type": "stream",
     "text": [
      "b'\\x01\\x00\\x00\\x00\\x00\\x00\\x00\\x00\\x00\\x00\\x00\\x00\\x00\\x00\\x00\\x00\\x00\\x00\\x00\\x00\\x00\\x00\\x00\\x00\\x00\\x00\\x00\\x00\\x0bn\\xfe\\x08\\x01\\x00\\x00\\x00\\x00\\x00\\x00\\x00'\n"
     ]
    }
   ],
   "source": [
    "# Define the BCM header to update new values only\n",
    "# We are not setting timers, just updating values:\n",
    "# Create the BCM Header\n",
    "\n",
    "opcode = socket.CAN_BCM_TX_SETUP\n",
    "flags = 0 # Default zero just updates the message\n",
    "count = 0 # no timers\n",
    "ival1_tv_sec  = 0 # Seconds\n",
    "ival1_tv_usec = 0 # Microseconds\n",
    "ival2_tv_sec  = 0  # Seconds\n",
    "ival2_tv_usec = 0\n",
    "can_id = HRW_ID\n",
    "nframes = 1 # Append a single CAN frame to the end the setup.\n",
    "\n",
    "bcm_frame = struct.pack(bcm_frame_format,\n",
    "                        opcode,\n",
    "                        flags,\n",
    "                        count,\n",
    "                        ival1_tv_sec,\n",
    "                        ival1_tv_usec,\n",
    "                        ival2_tv_sec,\n",
    "                        ival2_tv_usec,\n",
    "                        can_id,\n",
    "                        nframes)\n",
    "print(bcm_frame)       "
   ]
  },
  {
   "cell_type": "code",
   "execution_count": 13,
   "metadata": {},
   "outputs": [
    {
     "data": {
      "text/plain": [
       "56"
      ]
     },
     "execution_count": 13,
     "metadata": {},
     "output_type": "execute_result"
    }
   ],
   "source": [
    "#Set everything to zeros:\n",
    "can_packet = can_HRW_speeds(0)\n",
    "sock.send(bcm_frame+can_packet)"
   ]
  },
  {
   "cell_type": "code",
   "execution_count": 14,
   "metadata": {},
   "outputs": [
    {
     "name": "stdout",
     "output_type": "stream",
     "text": [
      "0.00,0.0000\n",
      "0.01,0.0353\n",
      "0.02,0.0706\n",
      "0.03,0.1059\n",
      "0.04,0.1413\n",
      "0.05,0.1766\n",
      "0.06,0.2119\n",
      "0.07,0.2472\n",
      "0.08,0.2825\n",
      "0.09,0.3178\n",
      "0.10,0.3532\n",
      "0.11,0.3885\n",
      "0.12,0.4238\n",
      "0.13,0.4591\n",
      "0.14,0.4944\n",
      "0.15,0.5297\n",
      "0.16,0.5651\n",
      "0.17,0.6004\n",
      "0.18,0.6357\n",
      "0.19,0.6710\n",
      "0.20,0.7063\n",
      "0.21,0.7416\n",
      "0.22,0.7770\n",
      "0.23,0.8123\n",
      "0.24,0.8476\n",
      "0.25,0.8829\n",
      "0.26,0.9182\n",
      "0.27,0.9535\n",
      "0.28,0.9888\n",
      "0.29,1.0242\n",
      "0.30,1.0595\n",
      "0.31,1.0948\n",
      "0.32,1.1301\n",
      "0.33,1.1654\n",
      "0.34,1.2007\n",
      "0.35,1.2361\n",
      "0.36,1.2714\n",
      "0.37,1.3067\n",
      "0.38,1.3420\n",
      "0.39,1.3773\n",
      "0.40,1.4126\n",
      "0.41,1.4480\n",
      "0.42,1.4833\n",
      "0.43,1.5186\n",
      "0.44,1.5539\n",
      "0.45,1.5892\n",
      "0.46,1.6245\n",
      "0.47,1.6599\n",
      "0.48,1.6952\n",
      "0.49,1.7305\n",
      "0.50,1.7658\n",
      "0.51,1.8011\n",
      "0.52,1.8364\n",
      "0.53,1.8717\n",
      "0.54,1.9071\n",
      "0.55,1.9424\n",
      "0.56,1.9777\n",
      "0.57,2.0130\n",
      "0.58,2.0483\n",
      "0.59,2.0836\n",
      "0.60,2.1190\n",
      "0.61,2.1543\n",
      "0.62,2.1896\n",
      "0.63,2.2249\n",
      "0.64,2.2602\n",
      "0.65,2.2955\n",
      "0.66,2.3309\n",
      "0.67,2.3662\n",
      "0.68,2.4015\n",
      "0.69,2.4368\n",
      "0.70,2.4721\n",
      "0.71,2.5074\n",
      "0.72,2.5428\n",
      "0.73,2.5781\n",
      "0.74,2.6134\n",
      "0.75,2.6487\n",
      "0.76,2.6840\n",
      "0.77,2.7193\n",
      "0.78,2.7546\n",
      "0.79,2.7900\n",
      "0.80,2.8253\n",
      "0.81,2.8606\n",
      "0.82,2.8959\n",
      "0.83,2.9312\n",
      "0.84,2.9665\n",
      "0.85,3.0019\n",
      "0.86,3.0372\n",
      "0.87,3.0725\n",
      "0.88,3.1078\n",
      "0.89,3.1431\n",
      "0.90,3.1784\n",
      "0.91,3.2138\n",
      "0.92,3.2491\n",
      "0.93,3.2844\n",
      "0.94,3.3197\n",
      "0.95,3.3550\n",
      "0.96,3.3903\n",
      "0.97,3.4257\n",
      "0.98,3.4610\n",
      "0.99,3.4963\n",
      "1.00,3.5316\n",
      "1.01,3.5669\n",
      "1.02,3.6022\n",
      "1.03,3.6375\n",
      "1.04,3.6729\n",
      "1.05,3.7082\n",
      "1.06,3.7435\n",
      "1.07,3.7788\n",
      "1.08,3.8141\n",
      "1.09,3.8494\n",
      "1.10,3.8848\n",
      "1.11,3.9201\n",
      "1.12,3.9554\n",
      "1.13,3.9907\n",
      "1.14,4.0260\n",
      "1.15,4.0613\n",
      "1.16,4.0967\n",
      "1.17,4.1320\n",
      "1.18,4.1673\n",
      "1.19,4.2026\n",
      "1.20,4.2379\n",
      "1.21,4.2732\n",
      "1.22,4.3086\n",
      "1.23,4.3439\n",
      "1.24,4.3792\n",
      "1.25,4.4145\n",
      "1.26,4.4498\n",
      "1.27,4.4851\n",
      "1.28,4.5204\n",
      "1.29,4.5558\n",
      "1.30,4.5911\n",
      "1.31,4.6264\n",
      "1.32,4.6617\n",
      "1.33,4.6970\n",
      "1.34,4.7323\n",
      "1.35,4.7677\n",
      "1.36,4.8030\n",
      "1.37,4.8383\n",
      "1.38,4.8736\n",
      "1.39,4.9089\n",
      "1.40,4.9442\n",
      "1.41,4.9796\n",
      "1.42,5.0149\n",
      "1.43,5.0502\n",
      "1.44,5.0855\n",
      "1.45,5.1208\n",
      "1.46,5.1561\n",
      "1.47,5.1915\n",
      "1.48,5.2268\n",
      "1.49,5.2621\n",
      "1.50,5.2974\n",
      "1.51,5.3327\n",
      "1.52,5.3680\n",
      "1.53,5.4033\n",
      "1.54,5.4387\n",
      "1.55,5.4740\n",
      "1.56,5.5093\n",
      "1.57,5.5446\n",
      "1.58,5.5799\n",
      "1.59,5.6152\n",
      "1.60,5.6506\n",
      "1.61,5.6859\n",
      "1.62,5.7212\n",
      "1.63,5.7565\n",
      "1.64,5.7918\n",
      "1.65,5.8271\n",
      "1.66,5.8625\n",
      "1.67,5.8978\n",
      "1.68,5.9331\n",
      "1.69,5.9684\n",
      "1.70,6.0037\n",
      "1.71,6.0390\n",
      "1.72,6.0744\n",
      "1.73,6.1097\n",
      "1.74,6.1450\n",
      "1.75,6.1803\n",
      "1.76,6.2156\n",
      "1.77,6.2509\n",
      "1.78,6.2862\n",
      "1.79,6.3216\n",
      "1.80,6.3569\n",
      "1.81,6.3922\n",
      "1.82,6.4275\n",
      "1.83,6.4628\n",
      "1.84,6.4981\n",
      "1.85,6.5335\n",
      "1.86,6.5688\n",
      "1.87,6.6041\n",
      "1.88,6.6394\n",
      "1.89,6.6747\n",
      "1.90,6.7100\n",
      "1.91,6.7454\n",
      "1.92,6.7807\n",
      "1.93,6.8160\n",
      "1.94,6.8513\n",
      "1.95,6.8866\n",
      "1.96,6.9219\n",
      "1.97,6.9573\n",
      "1.98,6.9926\n",
      "1.99,7.0279\n",
      "2.00,7.0632\n",
      "2.01,7.0985\n",
      "2.02,7.1338\n",
      "2.03,7.1691\n",
      "2.04,7.2045\n",
      "2.05,7.2398\n",
      "2.06,7.2751\n",
      "2.07,7.3104\n",
      "2.08,7.3457\n",
      "2.09,7.3810\n",
      "2.10,7.4164\n",
      "2.11,7.4517\n",
      "2.12,7.4870\n",
      "2.13,7.5223\n",
      "2.14,7.5576\n",
      "2.15,7.5929\n",
      "2.16,7.6283\n",
      "2.17,7.6636\n",
      "2.18,7.6989\n",
      "2.19,7.7342\n",
      "2.20,7.7695\n",
      "2.21,7.8048\n",
      "2.22,7.8402\n",
      "2.23,7.8755\n",
      "2.24,7.9108\n",
      "2.25,7.9461\n",
      "2.26,7.9814\n",
      "2.27,8.0167\n",
      "2.28,8.0520\n",
      "2.29,8.0874\n",
      "2.30,8.1227\n",
      "2.31,8.1580\n",
      "2.32,8.1933\n",
      "2.33,8.2286\n",
      "2.34,8.2639\n",
      "2.35,8.2993\n",
      "2.36,8.3346\n",
      "2.37,8.3699\n",
      "2.38,8.4052\n",
      "2.39,8.4405\n",
      "2.40,8.4758\n",
      "2.41,8.5112\n",
      "2.42,8.5465\n",
      "2.43,8.5818\n",
      "2.44,8.6171\n",
      "2.45,8.6524\n",
      "2.46,8.6877\n",
      "2.47,8.7231\n",
      "2.48,8.7584\n",
      "2.49,8.7937\n",
      "2.50,8.8290\n",
      "2.51,8.8643\n",
      "2.52,8.8996\n",
      "2.53,8.9349\n",
      "2.54,8.9703\n",
      "2.55,9.0056\n",
      "2.56,9.0409\n",
      "2.57,9.0762\n",
      "2.58,9.1115\n",
      "2.59,9.1468\n",
      "2.60,9.1822\n",
      "2.61,9.2175\n",
      "2.62,9.2528\n",
      "2.63,9.2881\n",
      "2.64,9.3234\n",
      "2.65,9.3587\n",
      "2.66,9.3941\n",
      "2.67,9.4294\n",
      "2.68,9.4647\n",
      "2.69,9.5000\n",
      "2.70,9.5353\n",
      "2.71,9.5706\n",
      "2.72,9.6060\n",
      "2.73,9.6413\n",
      "2.74,9.6766\n",
      "2.75,9.7119\n",
      "2.76,9.7472\n",
      "2.77,9.7825\n",
      "2.78,9.8178\n",
      "2.79,9.8532\n",
      "2.80,9.8885\n",
      "2.81,9.9238\n",
      "2.82,9.9591\n",
      "2.83,9.9944\n",
      "2.84,10.0297\n",
      "2.85,10.0651\n",
      "2.86,10.1004\n",
      "2.87,10.1357\n",
      "2.88,10.1710\n",
      "2.89,10.2063\n",
      "2.90,10.2416\n",
      "2.91,10.2770\n",
      "2.92,10.3123\n",
      "2.93,10.3476\n",
      "2.94,10.3829\n",
      "2.95,10.4182\n",
      "2.96,10.4535\n",
      "2.97,10.4889\n",
      "2.98,10.5242\n",
      "2.99,10.5595\n"
     ]
    }
   ],
   "source": [
    "# Let's conduct a realtime simulation for 3 seconds\n",
    "# Turn on candump to see the live data \n",
    "import time\n",
    "deltaT = 0.010 #seconds\n",
    "initial_velocity = 0\n",
    "acceleration = 0.1 * 9.81 * 3.6 #m/s to km/h/s\n",
    "v = initial_velocity \n",
    "t = 0\n",
    "for i in range(300):\n",
    "    # Send out the data\n",
    "    print(\"{:0.2f},{:0.4f}\".format(t,v))\n",
    "    can_packet = can_HRW_speeds(v)\n",
    "    sock.send(bcm_frame+can_packet)\n",
    "    # update to the next step (Euler's method)\n",
    "    time.sleep(deltaT)\n",
    "    t += deltaT\n",
    "    v += acceleration*deltaT #update the COM speed"
   ]
  },
  {
   "cell_type": "markdown",
   "metadata": {},
   "source": [
    " Part of the the `candump -tz vcan1` output is as follows\n",
    " ```\n",
    " (002.867990)  vcan1  08FE6E0B   [8]  00 00 00 00 00 00 00 00\n",
    " (002.888051)  vcan1  08FE6E0B   [8]  00 00 00 00 00 00 00 00\n",
    " (002.908148)  vcan1  08FE6E0B   [8]  17 00 11 00 14 00 0C 00\n",
    " (002.928230)  vcan1  08FE6E0B   [8]  23 00 19 00 1E 00 12 00\n",
    " (002.948293)  vcan1  08FE6E0B   [8]  3B 00 2B 00 33 00 1E 00\n",
    " (002.968368)  vcan1  08FE6E0B   [8]  53 00 3C 00 47 00 2B 00\n",
    " (002.988471)  vcan1  08FE6E0B   [8]  6B 00 4D 00 5C 00 37 00\n",
    " (003.008571)  vcan1  08FE6E0B   [8]  83 00 5E 00 71 00 43 00\n",
    " (003.028655)  vcan1  08FE6E0B   [8]  8F 00 67 00 7B 00 49 00\n",
    " (003.048767)  vcan1  08FE6E0B   [8]  A6 00 78 00 8F 00 56 00\n",
    " (003.068836)  vcan1  08FE6E0B   [8]  BE 00 8A 00 A4 00 62 00\n",
    " (003.088932)  vcan1  08FE6E0B   [8]  D6 00 9B 00 B8 00 6E 00\n",
    " (003.109049)  vcan1  08FE6E0B   [8]  E2 00 A3 00 C3 00 75 00\n",
    " (003.129145)  vcan1  08FE6E0B   [8]  FA 00 B5 00 D7 00 81 00\n",
    " (003.149317)  vcan1  08FE6E0B   [8]  12 01 C6 00 EC 00 8D 00\n",
    " (003.169388)  vcan1  08FE6E0B   [8]  29 01 D7 00 00 01 9A 00\n",
    " (003.189463)  vcan1  08FE6E0B   [8]  35 01 E0 00 0B 01 A0 00\n",
    " (003.209535)  vcan1  08FE6E0B   [8]  4D 01 F1 00 1F 01 AC 00\n",
    " (003.229644)  vcan1  08FE6E0B   [8]  65 01 02 01 34 01 B8 00\n",
    " (003.249730)  vcan1  08FE6E0B   [8]  7D 01 14 01 48 01 C5 00\n",
    " (003.269813)  vcan1  08FE6E0B   [8]  95 01 25 01 5D 01 D1 00\n",
    " (003.289913)  vcan1  08FE6E0B   [8]  A1 01 2E 01 67 01 D7 00\n",
    " (003.310000)  vcan1  08FE6E0B   [8]  B8 01 3F 01 7C 01 E4 00\n",
    " (003.330094)  vcan1  08FE6E0B   [8]  D0 01 50 01 90 01 F0 00\n",
    " (003.350170)  vcan1  08FE6E0B   [8]  DC 01 59 01 9A 01 F6 00\n",
    " (003.370247)  vcan1  08FE6E0B   [8]  F4 01 6A 01 AF 01 02 01\n",
    " (003.390328)  vcan1  08FE6E0B   [8]  0C 02 7B 01 C4 01 0F 01\n",
    " (003.410442)  vcan1  08FE6E0B   [8]  24 02 8C 01 D8 01 1B 01\n",
    " (003.430532)  vcan1  08FE6E0B   [8]  3C 02 9E 01 ED 01 27 01\n",
    " (003.450622)  vcan1  08FE6E0B   [8]  47 02 A6 01 F7 01 2E 01\n",
    " (003.470735)  vcan1  08FE6E0B   [8]  5F 02 B8 01 0B 02 3A 01\n",
    " (003.490843)  vcan1  08FE6E0B   [8]  77 02 C9 01 20 02 46 01\n",
    " (003.510952)  vcan1  08FE6E0B   [8]  8F 02 DA 01 35 02 53 01\n",
    " (003.531065)  vcan1  08FE6E0B   [8]  9B 02 E3 01 3F 02 59 01\n",
    " (003.551155)  vcan1  08FE6E0B   [8]  B3 02 F4 01 53 02 65 01\n",
    " ...\n",
    "```\n",
    "Since this is a right turn, the left wheels need to spin faster. You'll notice the second and 6th byte corresond to the km/h values of the left side and they increase speed faster than the right wheels.\n",
    "\n",
    "Notice the timing on the vcan is still 20ms, even though the simulation ran at 10ms. The CAN broadcasts what it was last updated with when the timer says it's ready to broadcast. There can be many updates in between each broadcast. If no update is received, then the message is repeated. \n",
    "\n",
    "Try to run the simulation with updates every 90 ms. What does the candump timing record show? Do messages repeat as you would predict?\n",
    "\n",
    "Once the simulation is finished, the CAN messages keep playing the last known value:\n",
    "```\n",
    " (014.081530)  vcan1  08FE6E0B   [8]  0A 2E 57 21 B0 27 D0 17\n",
    " (014.101595)  vcan1  08FE6E0B   [8]  22 2E 68 21 C5 27 DC 17\n",
    " (014.121702)  vcan1  08FE6E0B   [8]  3A 2E 79 21 D9 27 E9 17\n",
    " (014.141777)  vcan1  08FE6E0B   [8]  51 2E 8A 21 EE 27 F5 17\n",
    " (014.161862)  vcan1  08FE6E0B   [8]  69 2E 9C 21 02 28 01 18\n",
    " (014.181933)  vcan1  08FE6E0B   [8]  75 2E A4 21 0D 28 07 18\n",
    " (014.202024)  vcan1  08FE6E0B   [8]  81 2E AD 21 17 28 0E 18\n",
    " (014.222123)  vcan1  08FE6E0B   [8]  81 2E AD 21 17 28 0E 18\n",
    " (014.242230)  vcan1  08FE6E0B   [8]  81 2E AD 21 17 28 0E 18\n",
    " (014.262319)  vcan1  08FE6E0B   [8]  81 2E AD 21 17 28 0E 18\n",
    " (014.282411)  vcan1  08FE6E0B   [8]  81 2E AD 21 17 28 0E 18\n",
    "```\n"
   ]
  },
  {
   "cell_type": "markdown",
   "metadata": {},
   "source": [
    "Try to run the simulation with updates every 90 ms. What does the candump timing record show? Do messages repeat as you would predict?\n",
    "```\n",
    " (024.729463)  vcan1  08FE6E0B   [8]  00 00 00 00 00 00 00 00\n",
    " (024.749541)  vcan1  08FE6E0B   [8]  00 00 00 00 00 00 00 00\n",
    " (024.769612)  vcan1  08FE6E0B   [8]  6B 00 4D 00 5C 00 37 00\n",
    " (024.789690)  vcan1  08FE6E0B   [8]  6B 00 4D 00 5C 00 37 00\n",
    " (024.809738)  vcan1  08FE6E0B   [8]  6B 00 4D 00 5C 00 37 00\n",
    " (024.829780)  vcan1  08FE6E0B   [8]  6B 00 4D 00 5C 00 37 00\n",
    " (024.849844)  vcan1  08FE6E0B   [8]  D6 00 9B 00 B8 00 6E 00\n",
    " (024.870044)  vcan1  08FE6E0B   [8]  D6 00 9B 00 B8 00 6E 00\n",
    " (024.890176)  vcan1  08FE6E0B   [8]  D6 00 9B 00 B8 00 6E 00\n",
    " (024.910234)  vcan1  08FE6E0B   [8]  D6 00 9B 00 B8 00 6E 00\n",
    " (024.930279)  vcan1  08FE6E0B   [8]  D6 00 9B 00 B8 00 6E 00\n",
    " (024.950345)  vcan1  08FE6E0B   [8]  41 01 E9 00 15 01 A6 00\n",
    " (024.970392)  vcan1  08FE6E0B   [8]  41 01 E9 00 15 01 A6 00\n",
    " (024.990445)  vcan1  08FE6E0B   [8]  41 01 E9 00 15 01 A6 00\n",
    " (025.010496)  vcan1  08FE6E0B   [8]  41 01 E9 00 15 01 A6 00\n",
    " (025.030572)  vcan1  08FE6E0B   [8]  AD 01 36 01 71 01 DD 00\n",
    "```\n",
    "Since the simulation time step is slower than the CAN update rate, the message gets repeated until there is new data. This happens every 4 or 5 messages when the update rate is 90ms for the simulation and 20ms for the CAN. "
   ]
  },
  {
   "cell_type": "markdown",
   "metadata": {},
   "source": [
    "### Send multiframe message\n",
    "Let's send a VIN according to J1939 every 5 seconds 3 times\n",
    "\n",
    "The VIN will be encoded as 17 ascii characters and sent using the J1939 transport protocol.\n",
    "There will be 4 messages:\n",
    "\n",
    "1. Connection management\n",
    "2. Data 1 \n",
    "3. Data 2\n",
    "4. Data 3\n",
    "\n",
    "The VIN PGN is 65260 (0xFEEC). We'll usa a dynamically allocated address (0xA0) for the source and a priority of 6. With this information, we'll use the ID of 0x18FEECA0 for the BCM."
   ]
  },
  {
   "cell_type": "code",
   "execution_count": 15,
   "metadata": {},
   "outputs": [
    {
     "name": "stdout",
     "output_type": "stream",
     "text": [
      "b'\\x01\\x00\\x00\\x00\\x07\\x00\\x00\\x00\\x04\\x00\\x00\\x00\\x00\\x00\\x00\\x00P\\xc3\\x00\\x00\\x00\\x00\\x00\\x00\\x00\\x00\\x00\\x00\\xa0\\xec\\xfe\\x18\\x04\\x00\\x00\\x00\\x00\\x00\\x00\\x00'\n"
     ]
    }
   ],
   "source": [
    "opcode = socket.CAN_BCM_TX_SETUP\n",
    "flags = SETTIMER | STARTTIMER | TX_COUNTEVT # These flags set and start the timers for broadcast.\n",
    "count = 4 # When only one timer is needed 'count' is set to zero and only 'ival2' is used.\n",
    "ival1_tv_sec  = 0 # Seconds\n",
    "ival1_tv_usec = 50000 # Microseconds\n",
    "ival2_tv_sec  = 0 # Seconds\n",
    "ival2_tv_usec = 0 # Set this to zero to stop after the initial count.\n",
    "can_id = 0x18FEECA0\n",
    "nframes = 4 # Append a sequence of BAM messages\n",
    "\n",
    "bcm_frame = struct.pack(bcm_frame_format,\n",
    "                        opcode,\n",
    "                        flags,\n",
    "                        count,\n",
    "                        ival1_tv_sec,\n",
    "                        ival1_tv_usec,\n",
    "                        ival2_tv_sec,\n",
    "                        ival2_tv_usec,\n",
    "                        can_id,\n",
    "                        nframes)\n",
    "print(bcm_frame)                        "
   ]
  },
  {
   "cell_type": "code",
   "execution_count": 16,
   "metadata": {},
   "outputs": [],
   "source": [
    "#create a function to send VIN\n",
    "#Build the CAN Packets for the VIN BAM message:\n",
    "def sendVIN():\n",
    "    opcode = socket.CAN_BCM_TX_SETUP\n",
    "    flags = SETTIMER | STARTTIMER | TX_COUNTEVT # These flags set and start the timers for broadcast.\n",
    "    count = 4 # When only one timer is needed 'count' is set to zero and only 'ival2' is used.\n",
    "    ival1_tv_sec  = 0 # Seconds\n",
    "    ival1_tv_usec = 50000 # Microseconds\n",
    "    ival2_tv_sec  = 0 # Seconds\n",
    "    ival2_tv_usec = 0 # Set this to zero to stop after the initial count.\n",
    "    can_id = 0x18FEECA0\n",
    "    nframes = 4 # Append a sequence of BAM messages\n",
    "\n",
    "    bcm_frame = struct.pack(bcm_frame_format,\n",
    "                            opcode,\n",
    "                            flags,\n",
    "                            count,\n",
    "                            ival1_tv_sec,\n",
    "                            ival1_tv_usec,\n",
    "                            ival2_tv_sec,\n",
    "                            ival2_tv_usec,\n",
    "                            can_id,\n",
    "                            nframes)\n",
    "\n",
    "    #Connection managment\n",
    "    can_id = 0x18ECFFA0 | socket.CAN_EFF_FLAG\n",
    "\n",
    "    connection_data = struct.pack('<BHBBBBB',32,18,4,255,0xEC,0xFE,0x00)\n",
    "\n",
    "    can_dlc = len(connection_data)\n",
    "\n",
    "    #Pack the information into 16 bytes\n",
    "    can_packet = struct.pack(can_frame_format, can_id, can_dlc, connection_data)\n",
    "\n",
    "    #Data Transport\n",
    "    can_id = 0x18EBFFA0 | socket.CAN_EFF_FLAG\n",
    "\n",
    "    transport_data = b'\\x01THISIsA'\n",
    "    can_packet += struct.pack(can_frame_format, can_id, can_dlc, transport_data)\n",
    "\n",
    "    transport_data = b'\\x02nExampl'\n",
    "    can_packet += struct.pack(can_frame_format, can_id, can_dlc, transport_data)\n",
    "\n",
    "    transport_data = b'\\x03eVIN\\xFF\\xFF\\xFF'\n",
    "    can_packet += struct.pack(can_frame_format, can_id, can_dlc, transport_data)\n",
    "    return (sock.send(bcm_frame+can_packet))"
   ]
  },
  {
   "cell_type": "code",
   "execution_count": 17,
   "metadata": {},
   "outputs": [
    {
     "data": {
      "text/plain": [
       "104"
      ]
     },
     "execution_count": 17,
     "metadata": {},
     "output_type": "execute_result"
    }
   ],
   "source": [
    "#Run this to start the sequence. Monitor with candump.\n",
    "sendVIN()"
   ]
  },
  {
   "cell_type": "code",
   "execution_count": 18,
   "metadata": {},
   "outputs": [
    {
     "data": {
      "text/plain": [
       "104"
      ]
     },
     "execution_count": 18,
     "metadata": {},
     "output_type": "execute_result"
    }
   ],
   "source": [
    "# Rerun to send the same burst output\n",
    "sendVIN()                  "
   ]
  },
  {
   "cell_type": "markdown",
   "metadata": {},
   "source": [
    "The candump output gives these two bursts. Each burst has messages that are 50ms apart.\n",
    "```\n",
    " (389.090370)  vcan1  18ECFFA0   [8]  20 12 00 04 FF EC FE 00\n",
    " (389.148373)  vcan1  18EBFFA0   [8]  01 54 68 69 73 49 73 41\n",
    " (389.198478)  vcan1  18EBFFA0   [8]  02 6E 45 78 61 6D 70 6C\n",
    " (389.248554)  vcan1  18EBFFA0   [8]  03 65 56 49 4E FF FF FF\n",
    " \n",
    " (391.803641)  vcan1  18ECFFA0   [8]  20 12 00 04 FF EC FE 00\n",
    " (391.854598)  vcan1  18EBFFA0   [8]  01 54 68 69 73 49 73 41\n",
    " (391.904681)  vcan1  18EBFFA0   [8]  02 6E 45 78 61 6D 70 6C\n",
    " (391.954756)  vcan1  18EBFFA0   [8]  03 65 56 49 4E FF FF FF\n",
    "```\n",
    "\n",
    "Doing this with a service tool attached shows the message was transmitted.\n",
    "\n",
    "![DGVINExample.png](DGVINExample.png)"
   ]
  },
  {
   "cell_type": "markdown",
   "metadata": {},
   "source": [
    "## Receiving Messages\n",
    "We can alus use the BCM approach to look for requests. \n",
    "\n",
    "A request message has a PGN of 0xEA00.\n",
    "\n",
    "```\n",
    " ival1: Send RX_TIMEOUT when a received message is not received again within\n",
    "    the given time. When START_TIMER is set at RX_SETUP the timeout detection\n",
    "    is activated directly - even without a former CAN frame reception.\n",
    "\n",
    "  ival2: Throttle the received message rate down to the value of ival2. This\n",
    "    is useful to reduce messages for the application when the signal inside the\n",
    "    CAN frame is stateless as state changes within the ival2 periode may get\n",
    "    lost.\n",
    "```"
   ]
  },
  {
   "cell_type": "code",
   "execution_count": 19,
   "metadata": {},
   "outputs": [
    {
     "data": {
      "text/plain": [
       "40"
      ]
     },
     "execution_count": 19,
     "metadata": {},
     "output_type": "execute_result"
    }
   ],
   "source": [
    "#Look for request messages: PGN = 0xEA00 every 200 ms.\n",
    "opcode = socket.CAN_BCM_RX_SETUP\n",
    "flags = RX_FILTER_ID\n",
    "count= 0 \n",
    "ival1_tv_sec=0\n",
    "ival1_tv_usec=0\n",
    "ival2_tv_sec=0\n",
    "ival2_tv_usec=0\n",
    "can_id = 0x98EAFFF9 #An identifier for this filter\n",
    "nframes=0\n",
    "bcm_frame = struct.pack(bcm_frame_format,\n",
    "                        opcode,\n",
    "                        flags,\n",
    "                        count,\n",
    "                        ival1_tv_sec,\n",
    "                        ival1_tv_usec,\n",
    "                        ival2_tv_sec,\n",
    "                        ival2_tv_usec,\n",
    "                        can_id,\n",
    "                        nframes)\n",
    "sock.send(bcm_frame)"
   ]
  },
  {
   "cell_type": "code",
   "execution_count": 20,
   "metadata": {},
   "outputs": [
    {
     "name": "stdout",
     "output_type": "stream",
     "text": [
      "b'\\t\\x00\\x00\\x00\\x0f\\x00\\x00\\x00\\x00\\x00\\x00\\x00\\x00\\x00\\x00\\x00P\\xc3\\x00\\x00\\x00\\x00\\x00\\x00\\x00\\x00\\x00\\x00\\xa0\\xec\\xfe\\x18\\x00\\x00\\x00\\x00\\x10\\x00\\x00\\x00'\n"
     ]
    }
   ],
   "source": [
    "print(sock.recv(56))"
   ]
  },
  {
   "cell_type": "markdown",
   "metadata": {},
   "source": [
    "### Build a routine to respond to request messages\n",
    "These are borrowed from [03_Parse J1939 Single Frame Messages.ipynb](03_Parse%20J1939%20Single%20Frame%20Messages.ipynb) \n"
   ]
  },
  {
   "cell_type": "code",
   "execution_count": 21,
   "metadata": {},
   "outputs": [],
   "source": [
    "def unpack_CAN(can_packet,display=False):\n",
    "    can_id, can_dlc, can_data = struct.unpack(can_frame_format, can_packet)\n",
    "    extended_frame = bool(can_id & socket.CAN_EFF_FLAG)\n",
    "    if extended_frame:\n",
    "        can_id &= socket.CAN_EFF_MASK\n",
    "        can_id_string = \"{:08X}\".format(can_id)\n",
    "    else: #Standard Frame\n",
    "        can_id &= socket.CAN_SFF_MASK\n",
    "        can_id_string = \"{:03X}\".format(can_id)\n",
    "    if display:\n",
    "        hex_data_string = ' '.join([\"{:02X}\".format(b) for b in can_data[:can_dlc]])\n",
    "        print(\"{} {} [{}] {}\".format(interface, can_id_string, can_dlc, hex_data_string))\n",
    "    return can_id, can_dlc, can_data"
   ]
  },
  {
   "cell_type": "code",
   "execution_count": 22,
   "metadata": {},
   "outputs": [],
   "source": [
    "#parse J1939 protocol data unit information from the ID using bit masks and shifts\n",
    "PRIORITY_MASK = 0x1C000000\n",
    "EDP_MASK      = 0x02000000\n",
    "DP_MASK       = 0x01000000\n",
    "PF_MASK       = 0x00FF0000\n",
    "PS_MASK       = 0x0000FF00\n",
    "SA_MASK       = 0x000000FF\n",
    "PDU1_PGN_MASK = 0x03FF0000\n",
    "PDU2_PGN_MASK = 0x03FFFF00\n",
    "\n",
    "def get_j1939_from_id(can_id):\n",
    "    #priority\n",
    "    priority = (PRIORITY_MASK & can_id) >> 26\n",
    "\n",
    "    #Extended Data Page\n",
    "    edp = (EDP_MASK & can_id) >> 25\n",
    "    \n",
    "    # Data Page\n",
    "    dp = (DP_MASK & can_id) >> 24\n",
    "    \n",
    "    # Protocol Data Unit (PDU) Format\n",
    "    PF = (can_id & PF_MASK) >> 16\n",
    "    \n",
    "    # Protocol Data Unit (PDU) Specific\n",
    "    PS = (can_id & PS_MASK) >> 8\n",
    "    \n",
    "    # Determine the Parameter Group Number and Destination Address\n",
    "    if PF >= 0xF0: #240\n",
    "\n",
    "        # PDU 2 format, include the PS as a group extension\n",
    "        DA = 255\n",
    "        PGN = (can_id & PDU2_PGN_MASK) >> 8\n",
    "    else:\n",
    "        PGN = (can_id & PDU1_PGN_MASK) >> 8\n",
    "        DA = PS\n",
    "    # Source address\n",
    "    SA = (can_id & SA_MASK)\n",
    "    \n",
    "    return priority,PGN,DA,SA"
   ]
  },
  {
   "cell_type": "code",
   "execution_count": 23,
   "metadata": {},
   "outputs": [
    {
     "name": "stdout",
     "output_type": "stream",
     "text": [
      "0 0 0 0 b'\\x00\\x00\\x00\\x00H\\xde\\x1a\\xc0'\n"
     ]
    },
    {
     "ename": "KeyboardInterrupt",
     "evalue": "",
     "output_type": "error",
     "traceback": [
      "\u001b[0;31m---------------------------------------------------------------------------\u001b[0m",
      "\u001b[0;31mKeyboardInterrupt\u001b[0m                         Traceback (most recent call last)",
      "\u001b[0;32m<ipython-input-23-c01b49437383>\u001b[0m in \u001b[0;36m<module>\u001b[0;34m\u001b[0m\n\u001b[1;32m      1\u001b[0m \u001b[0;31m# Press Esc , i, i to interrupt the Kernel\u001b[0m\u001b[0;34m\u001b[0m\u001b[0;34m\u001b[0m\u001b[0;34m\u001b[0m\u001b[0m\n\u001b[1;32m      2\u001b[0m \u001b[0;32mfor\u001b[0m \u001b[0mi\u001b[0m \u001b[0;32min\u001b[0m \u001b[0mrange\u001b[0m\u001b[0;34m(\u001b[0m\u001b[0;36m500\u001b[0m\u001b[0;34m)\u001b[0m\u001b[0;34m:\u001b[0m\u001b[0;34m\u001b[0m\u001b[0;34m\u001b[0m\u001b[0m\n\u001b[0;32m----> 3\u001b[0;31m     \u001b[0mcan_bcm\u001b[0m \u001b[0;34m=\u001b[0m \u001b[0msock\u001b[0m\u001b[0;34m.\u001b[0m\u001b[0mrecv\u001b[0m\u001b[0;34m(\u001b[0m\u001b[0;36m56\u001b[0m\u001b[0;34m)\u001b[0m\u001b[0;34m\u001b[0m\u001b[0;34m\u001b[0m\u001b[0m\n\u001b[0m\u001b[1;32m      4\u001b[0m     \u001b[0mcan_packet\u001b[0m \u001b[0;34m=\u001b[0m \u001b[0mcan_bcm\u001b[0m\u001b[0;34m[\u001b[0m\u001b[0;34m-\u001b[0m\u001b[0;36m16\u001b[0m\u001b[0;34m:\u001b[0m\u001b[0;34m]\u001b[0m\u001b[0;34m\u001b[0m\u001b[0;34m\u001b[0m\u001b[0m\n\u001b[1;32m      5\u001b[0m     \u001b[0;31m#Parse the bytes into a CAN message\u001b[0m\u001b[0;34m\u001b[0m\u001b[0;34m\u001b[0m\u001b[0;34m\u001b[0m\u001b[0m\n",
      "\u001b[0;31mKeyboardInterrupt\u001b[0m: "
     ]
    }
   ],
   "source": [
    "# Press Esc , i, i to interrupt the Kernel\n",
    "for i in range(500):\n",
    "    can_bcm = sock.recv(56)\n",
    "    can_packet = can_bcm[-16:]\n",
    "    #Parse the bytes into a CAN message\n",
    "    can_id, can_dlc, can_data = unpack_CAN(can_packet)\n",
    "    #Parse the CAN ID into J1939\n",
    "    priority,pgn,da,sa = get_j1939_from_id(can_id)\n",
    "    print(priority,pgn,da,sa,can_data)\n",
    "    # only global requests from the service tool are processed\n",
    "    requested_pgn = struct.unpack(\"<L\",can_data[0:4])[0]\n",
    "    #print(\"{:05X}\".format(requested_pgn))\n",
    "    if requested_pgn == 0xFEEC: #VIN\n",
    "        for i in range(3): #Sending multiple times increases chances for reception\n",
    "            sendVIN()\n",
    "            time.sleep(.3)\n",
    "        break"
   ]
  },
  {
   "cell_type": "markdown",
   "metadata": {},
   "source": [
    "If we have a diagnostic application, like DG Diagnostics, running, the VIN should have been requested and the BCM would have responded with 3 bursts. The program does not have to filter all the messages to look for the Request Message. "
   ]
  },
  {
   "cell_type": "markdown",
   "metadata": {},
   "source": [
    "## Delete the BCM messages\n",
    "When we are all finish, you can delete the Broadcast Message"
   ]
  },
  {
   "cell_type": "code",
   "execution_count": 24,
   "metadata": {},
   "outputs": [
    {
     "data": {
      "text/plain": [
       "40"
      ]
     },
     "execution_count": 24,
     "metadata": {},
     "output_type": "execute_result"
    }
   ],
   "source": [
    "#Delete the VIN Burst session\n",
    "opcode = socket.CAN_BCM_TX_DELETE\n",
    "flags = 0\n",
    "count= 0 \n",
    "ival1_tv_sec=0\n",
    "ival1_tv_usec=0\n",
    "ival2_tv_sec=0\n",
    "ival2_tv_usec=0\n",
    "can_id = 0x18FEECA0\n",
    "nframes=0\n",
    "bcm_frame = struct.pack(bcm_frame_format,\n",
    "                        opcode,\n",
    "                        flags,\n",
    "                        count,\n",
    "                        ival1_tv_sec,\n",
    "                        ival1_tv_usec,\n",
    "                        ival2_tv_sec,\n",
    "                        ival2_tv_usec,\n",
    "                        can_id,\n",
    "                        nframes)\n",
    "# Send this only once. \n",
    "sock.send(bcm_frame)"
   ]
  },
  {
   "cell_type": "code",
   "execution_count": 25,
   "metadata": {},
   "outputs": [
    {
     "name": "stdout",
     "output_type": "stream",
     "text": [
      "b'\\x02\\x00\\x00\\x00\\x00\\x00\\x00\\x00\\x00\\x00\\x00\\x00\\x00\\x00\\x00\\x00\\x00\\x00\\x00\\x00\\x00\\x00\\x00\\x00\\x00\\x00\\x00\\x00\\x0bn\\xfe\\x08\\x00\\x00\\x00\\x00\\x00\\x00\\x00\\x00'\n"
     ]
    },
    {
     "data": {
      "text/plain": [
       "40"
      ]
     },
     "execution_count": 25,
     "metadata": {},
     "output_type": "execute_result"
    }
   ],
   "source": [
    "# Delete a CAN Stream for the brake message\n",
    "opcode = socket.CAN_BCM_TX_DELETE\n",
    "flags = 0\n",
    "count= 0 \n",
    "ival1_tv_sec=0\n",
    "ival1_tv_usec=0\n",
    "ival2_tv_sec=0\n",
    "ival2_tv_usec=0\n",
    "can_id = HRW_ID\n",
    "nframes=0\n",
    "bcm_frame = struct.pack(bcm_frame_format,\n",
    "                        opcode,\n",
    "                        flags,\n",
    "                        count,\n",
    "                        ival1_tv_sec,\n",
    "                        ival1_tv_usec,\n",
    "                        ival2_tv_sec,\n",
    "                        ival2_tv_usec,\n",
    "                        can_id,\n",
    "                        nframes)\n",
    "print(bcm_frame)                        \n",
    "\n",
    "sock.send(bcm_frame)"
   ]
  },
  {
   "cell_type": "markdown",
   "metadata": {},
   "source": [
    "### Summary\n",
    "In this notebook we introduced transmitting and receiving with the SocketCAN Broacast Manager. There were examples of asynchronously updating the broadcast CAN signals based on a real-time simulation. A message burst was created and sent with the BCM. \n",
    "\n",
    "Using the BCM alleviates the need for a program to maintain tight time requirements and relegate that operation to the SocketCAN kernel module. "
   ]
  },
  {
   "cell_type": "code",
   "execution_count": null,
   "metadata": {},
   "outputs": [],
   "source": []
  }
 ],
 "metadata": {
  "kernelspec": {
   "display_name": "Python 3",
   "language": "python",
   "name": "python3"
  },
  "language_info": {
   "codemirror_mode": {
    "name": "ipython",
    "version": 3
   },
   "file_extension": ".py",
   "mimetype": "text/x-python",
   "name": "python",
   "nbconvert_exporter": "python",
   "pygments_lexer": "ipython3",
   "version": "3.7.3"
  }
 },
 "nbformat": 4,
 "nbformat_minor": 4
}
