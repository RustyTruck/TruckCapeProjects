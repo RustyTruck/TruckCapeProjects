{
 "cells": [
  {
   "cell_type": "markdown",
   "metadata": {},
   "source": [
    "### <center> Lab 5-1: UDS over CAN\n",
    "## <center> ENGR 580A2: Secure Vehicle and Industrial Networking\n",
    "## <center><img src=\"https://www.engr.colostate.edu/~jdaily/Systems-EN-CSU-1-C357.svg\" width=\"600\" />\n",
    "### <center> Instructor: Dr. Jeremy Daily<br>Fall 2020"
   ]
  },
  {
   "cell_type": "markdown",
   "metadata": {},
   "source": [
    "# Prerequisites\n",
    "We'll need a file that logs traffic from a unified diagnostic service (UDS) session. UDS is used by many companies, and is especially popular among european companies. For our example, we'll use a DDEC Reports session.\n",
    "\n",
    "DDEC Reports is a freely available fleet management tool for Detroit Diesel Engines. If you wanted to use it, you'd need an RP1210 compliant vehicle diagnostics adapter (VDA), like the DPA5. A google search for \"DDEC Reports Download\" usually points you in the right direction. \n",
    "\n",
    "\n",
    "We've already gathered a DDEC Reports file and the candump log file for when it was made. We need to download that first. If you are running this notebook on a BeagleBone, make sure it is connected to the Internet. "
   ]
  },
  {
   "cell_type": "code",
   "execution_count": 31,
   "metadata": {},
   "outputs": [],
   "source": [
    "# Install the requests library so we can download files from the Internet\n",
    "# uncomment the following line if requests is not installed\n",
    "#%pip install requests --user\n",
    "import requests"
   ]
  },
  {
   "cell_type": "code",
   "execution_count": 32,
   "metadata": {},
   "outputs": [
    {
     "name": "stdout",
     "output_type": "stream",
     "text": [
      "(1531228460.025007) can1 18FDD001#FFFFFF3030FFFFFF\n",
      "(1531228460.025565) can1 14FEF131#CFFFFFF300FFFF30\n",
      "(1531228460.026155) can1 18FEDB01#E900E900E900FFFF\n",
      "(1531228460.026721) can1 18FD9401#4C01FFFFFFFFF\n"
     ]
    }
   ],
   "source": [
    "# Download the candump log file from Dr. Daily's website\n",
    "url = r'https://www.engr.colostate.edu/~jdaily/J1939/files/candump_DDECReportsExtaction032819.txt'\n",
    "r = requests.get(url)\n",
    "candump_file = r.text\n",
    "print(candump_file[:203])"
   ]
  },
  {
   "cell_type": "code",
   "execution_count": 35,
   "metadata": {},
   "outputs": [],
   "source": [
    "# Download the DDEC Reports file from Dr. Daily's website\n",
    "url = r'https://www.engr.colostate.edu/~jdaily/J1939/files/DDECReportsExtaction032819.pdf'\n",
    "r = requests.get(url)\n",
    "# Write the received binary pdf data to a file:\n",
    "with open('DDECReportsExtaction032819.pdf','wb') as pdf_file:\n",
    "    pdf_file.write(r.content)"
   ]
  },
  {
   "cell_type": "markdown",
   "metadata": {},
   "source": [
    "If the block above successfully ran, then you should be able to open the PDF file with this link [DDECReportsExtaction032819.pdf](DDECReportsExtaction032819.pdf)"
   ]
  },
  {
   "cell_type": "code",
   "execution_count": 36,
   "metadata": {},
   "outputs": [],
   "source": [
    "# Download the DDEC Reports file from Dr. Daily's website\n",
    "url = r'https://www.engr.colostate.edu/~jdaily/J1939/files/DDECReportsExtaction032819.XTR'\n",
    "r = requests.get(url)\n",
    "# Write the received binary DDEC Reports data to a file:\n",
    "with open('DDECReportsExtaction032819.XTR','wb') as xtr_file:\n",
    "    xtr_file.write(r.content)"
   ]
  },
  {
   "cell_type": "markdown",
   "metadata": {},
   "source": [
    "# ISO 14229 or ISO 15765\n",
    "These ISO standards define a method of communication that is primarily focused on diagnosic services. \n",
    "\n",
    "For SAE J1939 networks, there is a special parameter group number 55808 (0xDA00) that is used for all UDS traffic. This means we can filter out all the other traffic and only focus on the UDS messages.\n",
    "\n",
    "Source address 241 (0xF1) is the world-wide harmonized (WWH) off-board diagnositics (OBD) Tester for OBD tester as defined in WWH-OBD ISO 15765-4.\n"
   ]
  },
  {
   "cell_type": "code",
   "execution_count": 55,
   "metadata": {},
   "outputs": [
    {
     "name": "stdout",
     "output_type": "stream",
     "text": [
      "[]\n"
     ]
    },
    {
     "data": {
      "text/plain": [
       "[{'timestamp': 1531228470.611006,\n",
       "  'sa': 241,\n",
       "  'da': 0,\n",
       "  'data': b'\\x03\"\\xf1\\x00\\xff\\xff\\xff\\xff'},\n",
       " {'timestamp': 1531228470.631073,\n",
       "  'sa': 0,\n",
       "  'da': 241,\n",
       "  'data': b'\\x07b\\xf1\\x00\\x02\\x01\\x0e\\x01'},\n",
       " {'timestamp': 1531228472.603126,\n",
       "  'sa': 241,\n",
       "  'da': 0,\n",
       "  'data': b'\\x02\\x10\\x03\\x00\\x00\\x00\\x00\\x00'},\n",
       " {'timestamp': 1531228472.621486,\n",
       "  'sa': 0,\n",
       "  'da': 241,\n",
       "  'data': b'\\x06P\\x03\\x00\\x14\\x00\\xc8\\x01'},\n",
       " {'timestamp': 1531228473.115446,\n",
       "  'sa': 241,\n",
       "  'da': 0,\n",
       "  'data': b'\\x03\"\\xf1\\x00\\x00\\x00\\x00\\x00'}]"
      ]
     },
     "execution_count": 55,
     "metadata": {},
     "output_type": "execute_result"
    }
   ],
   "source": [
    "# Extract UDS messages from the CAN log\n",
    "uds_messages = []\n",
    "for line in candump_file.split('\\n'):\n",
    "    elements = line.replace(\"#\",\" \").split()\n",
    "    try:\n",
    "        if \"18DA\" in elements[2]:\n",
    "            can_id = int(elements[2],16) \n",
    "            sa = can_id & 0xFF\n",
    "            da = (can_id & 0xFF00) >> 8\n",
    "            data = bytes.fromhex(elements[3])\n",
    "            timestamp = float(elements[0].strip('()'))\n",
    "            uds_messages.append({'timestamp':timestamp,'sa':sa,'da':da,'data':data})\n",
    "    except IndexError:\n",
    "        # This is usually an empty string at the end\n",
    "        print(elements)\n",
    "uds_messages[:5]"
   ]
  },
  {
   "cell_type": "markdown",
   "metadata": {},
   "source": [
    "With only the ISO 15765 data in the list, we can begin to understand some of the diagnostic communications. Let's take this one line at a time. For reference, we can use the ISO specification (which is expensive) or this poster:\n",
    "\n",
    "https://automotive.softing.com/fileadmin/sof-files/pdf/de/ae/poster/UDS_Faltposter_softing2016.pdf\n",
    "\n",
    "Since all of the UDS information is in the data field, we only derive source and destination address from the CAN ID. The first nibble of the first byte in the data frame is one of 3 things:\n",
    "1. If the first nibble is a 0, then it is a single frame message. The second nibble is the message size.\n",
    "2. If the first nibble is a 1, then this is the first frame of a long message. The next 12 bits represent the message size.\n",
    "3. If the first nibble is a 2, then this is a consecutive frame from the first message.\n",
    "4. If the first nibble is a 3, then it is a session control message. \n",
    "\n",
    "https://en.wikipedia.org/wiki/ISO_15765-2\n",
    "\n",
    "Since 12 bits are allocated to describe the message size, the total amount of data that can be transfered in 1 session is 4096 bytes, which is over twice the size of the maximum for the J1939 Transport Protocol."
   ]
  },
  {
   "cell_type": "markdown",
   "metadata": {},
   "source": [
    "### Single Frame Message: Read Data By Identifier"
   ]
  },
  {
   "cell_type": "code",
   "execution_count": 62,
   "metadata": {},
   "outputs": [
    {
     "data": {
      "text/plain": [
       "{'timestamp': 1531228470.611006,\n",
       " 'sa': 241,\n",
       " 'da': 0,\n",
       " 'data': b'\\x03\"\\xf1\\x00\\xff\\xff\\xff\\xff'}"
      ]
     },
     "execution_count": 62,
     "metadata": {},
     "output_type": "execute_result"
    }
   ],
   "source": [
    "# Let's look at the first UDS message:\n",
    "uds_messages[0]"
   ]
  },
  {
   "cell_type": "markdown",
   "metadata": {},
   "source": [
    "This message comes from source address 241, which is the "
   ]
  },
  {
   "cell_type": "code",
   "execution_count": 61,
   "metadata": {},
   "outputs": [
    {
     "data": {
      "text/plain": [
       "'03 22 F1 00 FF FF FF FF'"
      ]
     },
     "execution_count": 61,
     "metadata": {},
     "output_type": "execute_result"
    }
   ],
   "source": [
    "# We can pretty-print the data:\n",
    "\" \".join([\"{:02X}\".format(b) for b in uds_messages[0]['data']])"
   ]
  },
  {
   "cell_type": "markdown",
   "metadata": {},
   "source": [
    "The first nibble is a zero, so this is a single frame message. \n",
    "\n",
    "The next nibble is 3, which means there are 3 bytes to this message, which are 0x22, 0xF1, 0x00\n",
    "\n",
    "The first byte in this sequence is called the *service identifier* (SID). The upper right table in the poster shows the different service ids.\n",
    "\n",
    "![UDS_Service_Overview.png](UDS_Service_Overview.png)\n",
    "\n",
    "Based on this message the SID is 0x22, which is the **Read Data By Identifier** service name (RDBI). It does not have a sub function, so the identifier to read is 0xF100.\n",
    "\n",
    "When we look up the 0xF100 identifier in Appendix C.1 of the ISO 14229-3 standard, it says that this parameter is Manufacturer Specific, which means we may not get any other information about the data that comes next. "
   ]
  },
  {
   "cell_type": "code",
   "execution_count": 65,
   "metadata": {},
   "outputs": [
    {
     "name": "stdout",
     "output_type": "stream",
     "text": [
      "{'timestamp': 1531228470.631073, 'sa': 0, 'da': 241, 'data': b'\\x07b\\xf1\\x00\\x02\\x01\\x0e\\x01'}\n"
     ]
    }
   ],
   "source": [
    "# Look at the next record\n",
    "print(uds_messages[1])"
   ]
  },
  {
   "cell_type": "code",
   "execution_count": 66,
   "metadata": {},
   "outputs": [
    {
     "data": {
      "text/plain": [
       "'07 62 F1 00 02 01 0E 01'"
      ]
     },
     "execution_count": 66,
     "metadata": {},
     "output_type": "execute_result"
    }
   ],
   "source": [
    "# This is the response to\n",
    "\" \".join([\"{:02X}\".format(b) for b in uds_messages[1]['data']])"
   ]
  },
  {
   "cell_type": "markdown",
   "metadata": {},
   "source": [
    "This response from the engine controller (SA = 0) is a single frame with seven bytes: 0x07.\n",
    "\n",
    "The response service identifier is indicated by adding 0x40 to the requested SID. This is the same as setting the the 6th bit: 0b01000000\n"
   ]
  },
  {
   "cell_type": "code",
   "execution_count": 67,
   "metadata": {},
   "outputs": [
    {
     "name": "stdout",
     "output_type": "stream",
     "text": [
      "response SID: 0x62\n"
     ]
    }
   ],
   "source": [
    "sid = 0x22\n",
    "sid_response = sid | 0x40 #set the repsonse bit\n",
    "print(\"response SID: 0x{:02X}\".format(sid_response))"
   ]
  },
  {
   "cell_type": "markdown",
   "metadata": {},
   "source": [
    "The parameter for the response is still 0xF100 and the data for the response is 0x20010E01. We don't know what this parameter from the engine means, but presumably the diagnostic software application knows what to do.  "
   ]
  },
  {
   "cell_type": "code",
   "execution_count": 68,
   "metadata": {},
   "outputs": [
    {
     "name": "stdout",
     "output_type": "stream",
     "text": [
      "{'timestamp': 1531228472.603126, 'sa': 241, 'da': 0, 'data': b'\\x02\\x10\\x03\\x00\\x00\\x00\\x00\\x00'}\n",
      "{'timestamp': 1531228472.621486, 'sa': 0, 'da': 241, 'data': b'\\x06P\\x03\\x00\\x14\\x00\\xc8\\x01'}\n",
      "{'timestamp': 1531228473.115446, 'sa': 241, 'da': 0, 'data': b'\\x03\"\\xf1\\x00\\x00\\x00\\x00\\x00'}\n",
      "{'timestamp': 1531228473.131437, 'sa': 0, 'da': 241, 'data': b'\\x07b\\xf1\\x00\\x02\\x01\\x0e\\x03'}\n",
      "{'timestamp': 1531228473.828286, 'sa': 241, 'da': 0, 'data': b\"\\x02'\\x05\\x00\\x00\\x00\\x00\\x00\"}\n",
      "{'timestamp': 1531228473.841246, 'sa': 0, 'da': 241, 'data': b'\\x04g\\x05\\x11\\x8e\\x01\\x0e\\x03'}\n",
      "{'timestamp': 1531228474.095685, 'sa': 241, 'da': 0, 'data': b\"\\x04'\\x06\\xc0,\\x00\\x00\\x00\"}\n",
      "{'timestamp': 1531228474.111126, 'sa': 0, 'da': 241, 'data': b'\\x02g\\x06\\x11\\x8e\\x01\\x0e\\x03'}\n"
     ]
    }
   ],
   "source": [
    "# let's look at the next sequence of messages\n",
    "for msg in uds_messages[2:10]:\n",
    "    print(msg)"
   ]
  },
  {
   "cell_type": "markdown",
   "metadata": {},
   "source": [
    "### Session Control Message\n",
    "The next message is a single frame, 2-byte message from the OBD Tester device (the diagnostic tool)."
   ]
  },
  {
   "cell_type": "code",
   "execution_count": 71,
   "metadata": {},
   "outputs": [
    {
     "name": "stdout",
     "output_type": "stream",
     "text": [
      "{'timestamp': 1531228472.603126, 'sa': 241, 'da': 0, 'data': b'\\x02\\x10\\x03\\x00\\x00\\x00\\x00\\x00'}\n"
     ]
    }
   ],
   "source": [
    "print(uds_messages[2])"
   ]
  },
  {
   "cell_type": "code",
   "execution_count": 72,
   "metadata": {},
   "outputs": [
    {
     "data": {
      "text/plain": [
       "'02 10 03 00 00 00 00 00'"
      ]
     },
     "execution_count": 72,
     "metadata": {},
     "output_type": "execute_result"
    }
   ],
   "source": [
    "\" \".join([\"{:02X}\".format(b) for b in uds_messages[2]['data']])"
   ]
  },
  {
   "cell_type": "markdown",
   "metadata": {},
   "source": [
    "This message SID is 0x10, which is the Diagnostic Session Control (DSC). It has a subfunction, which is indicated by the following byte, 0x03. The highest two bits of the value are both zero. According to the Sub-Function Byte of UDS, this means the suppressPosRspMsgIndicatioBit is not set, so the ECU is expected to respond.\n",
    "\n",
    "When looking up SID of 0x10, we find the subfunction of this SID is the diagnostic Session Type. A value of 0x30 means \n",
    "```\n",
    "extendedDiagnosticSession (EXTDS)\n",
    "This diagnosticSession can be used to enable all diagnostic services required to support the adjustment of functions like \"Idle Speed, CO Value, etc.\" in the server's memory. It can also be used to enable diagnostic services, which are not specifically tied to the adjustment of functions.\n",
    "```\n",
    "according to the ISO-14229-3 standard.\n",
    "\n",
    "So we are looking at an extended diagnostic session.\n"
   ]
  },
  {
   "cell_type": "code",
   "execution_count": 73,
   "metadata": {},
   "outputs": [
    {
     "name": "stdout",
     "output_type": "stream",
     "text": [
      "{'timestamp': 1531228472.621486, 'sa': 0, 'da': 241, 'data': b'\\x06P\\x03\\x00\\x14\\x00\\xc8\\x01'}\n"
     ]
    },
    {
     "data": {
      "text/plain": [
       "'06 50 03 00 14 00 C8 01'"
      ]
     },
     "execution_count": 73,
     "metadata": {},
     "output_type": "execute_result"
    }
   ],
   "source": [
    "# Look at the response:\n",
    "print(uds_messages[3])\n",
    "\" \".join([\"{:02X}\".format(b) for b in uds_messages[3]['data']])"
   ]
  },
  {
   "cell_type": "markdown",
   "metadata": {},
   "source": [
    "The response from the engine controller to the OBD tool is a single frame with 6 bytes (0x06). The response SID is has 0x40 added to the origination SID: 0x50 = 0x10 + 0x40.\n",
    "\n",
    "The diagnostic Function Type is still 0x03, which is an extended session. This takes up 2 bytes, there are still four to go.\n",
    "\n",
    "According to ISO 14229, Tables 26-28, we can interpet the next four bytes as the sessionParameterRecord, which contain ECU timing requirements. These bytes have the following definitions:\n",
    "```\n",
    "P2Server_max (high byte)\n",
    "P2Server_max (low byte)\n",
    "P2*Server_max (high byte)\n",
    "P2*Server_max (low byte)\n",
    "```\n",
    "These parameters have the following definitions:\n",
    "\n",
    "| Parameter | Description | # of bytes | Resolution | minimum value | maximum value |\n",
    "| :-- | :-- | --- | --- | --- | --- |\n",
    "| `P2Server_max` |Default P2Server_max timing supported by the server for the activated diagnostic session. | 2 | 1 ms | 0 ms | 65,535 ms |\n",
    "| `P2*Server_max` | Enhanced (NRC 0x78) P2Server_max supported by the server for the activated diagnostic session. | 2 | 10 ms | 0 ms | 655,350 ms |\n",
    "\n",
    "Enhanced Negative Response Code (NRC) 0x78 is `requestCorrectlyReceived-ResponsePending` (RCRRP)\n",
    "\n",
    "```This NRC indicates that the request message was received correctly, and that all parameters in the request message were valid, but the action to be performed is not yet completed and the server is not yet ready to receive another request. As soon as the requested service has been completed, the server shall send a positive response message or negative response message with a response code different from this.```"
   ]
  },
  {
   "cell_type": "code",
   "execution_count": 77,
   "metadata": {},
   "outputs": [
    {
     "name": "stdout",
     "output_type": "stream",
     "text": [
      "The ECU can support up to 20 milliseconds for P2Server_max\n"
     ]
    }
   ],
   "source": [
    "P2Server_max = struct.unpack('>H',uds_messages[3]['data'][3:5])[0]\n",
    "print(\"The ECU can support up to {} milliseconds for P2Server_max\".format(P2Server_max))"
   ]
  },
  {
   "cell_type": "code",
   "execution_count": 78,
   "metadata": {},
   "outputs": [
    {
     "name": "stdout",
     "output_type": "stream",
     "text": [
      "The ECU can support up to 2000 milliseconds for P2*Server_max\n"
     ]
    }
   ],
   "source": [
    "P2_star_Server_max = struct.unpack('>H',uds_messages[3]['data'][5:7])[0]\n",
    "print(\"The ECU can support up to {} milliseconds for P2*Server_max\".format(P2_star_Server_max*10))"
   ]
  },
  {
   "cell_type": "markdown",
   "metadata": {},
   "source": [
    "## Security Session Setup"
   ]
  },
  {
   "cell_type": "code",
   "execution_count": 96,
   "metadata": {},
   "outputs": [
    {
     "name": "stdout",
     "output_type": "stream",
     "text": [
      "From: 241, To:   0,  02 27 05 00 00 00 00 00\n",
      "From:   0, To: 241,  04 67 05 11 8E 01 0E 03\n",
      "From: 241, To:   0,  04 27 06 C0 2C 00 00 00\n",
      "From:   0, To: 241,  02 67 06 11 8E 01 0E 03\n"
     ]
    }
   ],
   "source": [
    "# look at the transactions\n",
    "for i in range(6,10):\n",
    "    print(\"From: {:3d}, To: {:3d}, \".format(uds_messages[i]['sa'],uds_messages[i]['da']),\n",
    "          \" \".join([\"{:02X}\".format(b) for b in uds_messages[i]['data']]))"
   ]
  },
  {
   "cell_type": "markdown",
   "metadata": {},
   "source": [
    "The first message is from the OBD Tester to the engine controller of a single frame, 2 byte message. The SID is 0x27, which is **Security Access**. The Sub-Function is 0x05, which is **requestSeed**. The tool is asking the ECU for a seed so it can authenticate itself to perform diagnostics. \n",
    "\n",
    "The second message is the response from the engine with only 4 bytes. The Response code is 0x67 = 0x27 + 0x40 and the positive response message is the **securitySeed**. This is a 16-bit number with the high byte first and low byte second (big endian, motorolla format).\n",
    "\n",
    "The third message is also Security Access, but the Sub-Function is 0x60 which is **sendKey**. The key value are the next two bytes and they are calculated by the service tool based on the securitySeed value. In other words, there is a challenge-response function that maps 0x118E to 0xC02C:\n",
    "$$ f(0x118E) = 0xC02C $$\n",
    "From a cybersecurity stand point, this so-called security is insufficient to stop anything but an accidental session on the bus. 16-bits are far too few to be cryptographically sound. \n",
    "\n",
    "**THIS APPROACH IS NOT ACTUALLY SECURE!**\n",
    "\n",
    "We could figure out $f$. How?\n",
    "\n",
    "Finally, the last message is from the Engine with a positive response to the key exchange. Notice there are only 2 bytes in this response, 0x02. This means the bytes 11 8E 01 0E 03 have no meaning and you can see they were left over from the last transmission from the engine. They can be ignored. \n",
    "\n",
    "Now the security setup has been satisfied, and the session can continue."
   ]
  },
  {
   "cell_type": "markdown",
   "metadata": {},
   "source": [
    "##  Multiple Frame Message\n",
    "The next block of messages make use of the ISO transport protocol. The first nibble in the messages are greater than zero. This is byte is called the protocol control information (PCI). "
   ]
  },
  {
   "cell_type": "code",
   "execution_count": 99,
   "metadata": {},
   "outputs": [
    {
     "name": "stdout",
     "output_type": "stream",
     "text": [
      "From: 241, To:   0,  10 0D 2E F1 5C 00 00 00\n",
      "From:   0, To: 241,  30 08 14 11 8E 01 0E 03\n",
      "From: 241, To:   0,  21 13 03 1C 00 00 00 00\n"
     ]
    }
   ],
   "source": [
    "# look at the next 3 messages\n",
    "for i in range(10,13):\n",
    "    print(\"From: {:3d}, To: {:3d}, \".format(uds_messages[i]['sa'],uds_messages[i]['da']),\n",
    "          \" \".join([\"{:02X}\".format(b) for b in uds_messages[i]['data']]))"
   ]
  },
  {
   "cell_type": "markdown",
   "metadata": {},
   "source": [
    "The first message is from the OBD tool to the engine. The first nibble is a 1, which means it is the first frame in a multi frame message. The next 3 nibbles (12 bits) are the length of the message in bytes."
   ]
  },
  {
   "cell_type": "code",
   "execution_count": 100,
   "metadata": {},
   "outputs": [
    {
     "name": "stdout",
     "output_type": "stream",
     "text": [
      "4109\n"
     ]
    }
   ],
   "source": [
    "# Compute the message length\n",
    "message_bytes = struct.unpack(\">H\",uds_messages[10]['data'][0:2])[0]\n",
    "print(message_bytes)"
   ]
  },
  {
   "cell_type": "code",
   "execution_count": 101,
   "metadata": {},
   "outputs": [
    {
     "name": "stdout",
     "output_type": "stream",
     "text": [
      "13\n"
     ]
    }
   ],
   "source": [
    "# Since we only want 3 nibbles, we have to mask off the initial 1:\n",
    "message_bytes &= 0x0FFF\n",
    "print(message_bytes)"
   ]
  },
  {
   "cell_type": "code",
   "execution_count": 102,
   "metadata": {},
   "outputs": [
    {
     "data": {
      "text/plain": [
       "13"
      ]
     },
     "execution_count": 102,
     "metadata": {},
     "output_type": "execute_result"
    }
   ],
   "source": [
    "0xD"
   ]
  },
  {
   "cell_type": "markdown",
   "metadata": {},
   "source": [
    "So, we are expecting 13 bytes of data. The data count starts with the bytes immediatly following the count. There are 6 of the 13 bytes on the first line: `2E F1 5C 00 00 00`\n",
    "\n",
    "The second line is from the engine to the tool and is a 0x30 Flow control PCI message. The value of 3 in the first nibble indicates it is a flow control message. The second nibble, 0, indicates it's clear to send. The options are 0 = Clear To Send, 1 = Wait, 2 = Overflow/abort. The next byte, 0x80, indicates the number of frames that may be sent before waiting for the next flow control frame. A value of zero allows the remaining frames to be sent without flow control or delay. The third byte, 0x14, is the Separation Time (ST) or the minimum time in milliseconds between frames. In this case, frames should be send 20 ms apart. "
   ]
  },
  {
   "cell_type": "code",
   "execution_count": 105,
   "metadata": {},
   "outputs": [
    {
     "data": {
      "text/plain": [
       "20"
      ]
     },
     "execution_count": 105,
     "metadata": {},
     "output_type": "execute_result"
    }
   ],
   "source": [
    "0x14"
   ]
  },
  {
   "cell_type": "markdown",
   "metadata": {},
   "source": [
    "In the last message, the remaining 7 of the 13 bytes are transmitted. The PCI nibble is 2 and the next nibble is 1, which means it is the first of the consecutive frames. The second nibble will increment as subsequent consecutive frames arrive. The last of the message is `13 03 1C 00 00 00 00`"
   ]
  },
  {
   "cell_type": "code",
   "execution_count": 112,
   "metadata": {},
   "outputs": [
    {
     "name": "stdout",
     "output_type": "stream",
     "text": [
      "Message length: 13\n",
      "2E F1 5C 00 00 00 13 03 1C 00 00 00 00\n"
     ]
    }
   ],
   "source": [
    "full_message = bytes.fromhex('2E F1 5C 00 00 00 13 03 1C 00 00 00 00')\n",
    "print('Message length:', len(full_message))\n",
    "print(\" \".join([\"{:02X}\".format(b) for b in full_message]))"
   ]
  },
  {
   "cell_type": "markdown",
   "metadata": {},
   "source": [
    "This starts with a SID of 0x2E, which is **Write Data By Identififer**. The data identifier is 0xF15C and the data to write is 0x00 00 00 13 03 1C 00 00 00 00. The data identifier falls in the identificationOptionVehicleManufacturerSpecificDataIdentifier range."
   ]
  },
  {
   "cell_type": "code",
   "execution_count": 114,
   "metadata": {},
   "outputs": [
    {
     "name": "stdout",
     "output_type": "stream",
     "text": [
      "From:   0, To: 241,  03 6E F1 5C 8E 01 0E 03\n",
      "From: 241, To:   0,  05 31 01 03 04 01 00 00\n",
      "From:   0, To: 241,  04 71 01 03 04 01 0E 03\n",
      "From: 241, To:   0,  03 22 F1 95 00 00 00 00\n",
      "From:   0, To: 241,  10 16 62 F1 95 00 02 56\n"
     ]
    }
   ],
   "source": [
    "for i in range(13,18):\n",
    "    print(\"From: {:3d}, To: {:3d}, \".format(uds_messages[i]['sa'],uds_messages[i]['da']),\n",
    "          \" \".join([\"{:02X}\".format(b) for b in uds_messages[i]['data']]))"
   ]
  },
  {
   "cell_type": "code",
   "execution_count": null,
   "metadata": {},
   "outputs": [],
   "source": []
  },
  {
   "cell_type": "code",
   "execution_count": null,
   "metadata": {},
   "outputs": [],
   "source": []
  }
 ],
 "metadata": {
  "kernelspec": {
   "display_name": "Python 3",
   "language": "python",
   "name": "python3"
  },
  "language_info": {
   "codemirror_mode": {
    "name": "ipython",
    "version": 3
   },
   "file_extension": ".py",
   "mimetype": "text/x-python",
   "name": "python",
   "nbconvert_exporter": "python",
   "pygments_lexer": "ipython3",
   "version": "3.7.3"
  }
 },
 "nbformat": 4,
 "nbformat_minor": 2
}
