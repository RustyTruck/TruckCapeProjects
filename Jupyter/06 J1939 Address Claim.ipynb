{
 "cells": [
  {
   "cell_type": "markdown",
   "metadata": {},
   "source": [
    "## J1939 Address Claim\n",
    "J1939 has use cases where systems that utilize J1939 are reconfigured frequently. These secenarios include adding and removing construction or agriculture implemements or otherwise altering the vehicle network. In these situations, there is a risk of two controller applications (CAs) using the same source address (SA). Since messaging in J1939 includes a peer-to-peer mode with a source and destination address, there needs to be a mechanism to claim an address.\n",
    "\n",
    "###  Technical Requirements \n",
    "SAE J1939-81 specifies some requirements:\n",
    "1. Controller Applications must be capable of providing its unique 64-bit NAME.\n",
    "2. CAs must claim an address before sending messages\n",
    "3. Unsuccessful address claims must be handled and reported to the network.\n",
    "4. A CA must follow the address claiming initialization.\n",
    "5. A CA must support network managment requirements, including responses to power interruptions. \n",
    "\n",
    "#### The 64-bit NAME\n",
    "SAE defines the following fields in a 64-bin NAME:\n",
    "\n",
    "* 1 Bit : Arbitrary Address Capable\n",
    "* 3 Bits: Industry Group (SAE)\n",
    "* 4 Bits: Vehicle Systems Instance\n",
    "* 7 Bits: Vehicle System (SAE)\n",
    "* 1 Bit : Reserved (SAE)\n",
    "* 8 Bits: Function (SAE)\n",
    "* 5 Bits: Function Instance\n",
    "* 3 Bits: ECU Instance\n",
    "* 11 Bits: Manufacturer Code (SAE)\n",
    "* 21 Bits: Identity\n",
    "\n",
    "Some of these fields are specified by SAE in the J1939-81 standard; others are specified by manufacturers. The details of these are as follows:\n",
    "1. Arbitrary Address Capable: Indicates if a CA can negotiate its address. If the bit is set, then it can negotiate. If the bit = 0, then it cannot, which means it will always want to keep its address.\n",
    "2. Industry Group: These bits refer to the particular industy, like on-highway, construction, marine, etc.\n",
    "3. Vehicle Systems Instance: a number for each instance on a vehicle system in case there are several networks (e.g. train cars).\n",
    "4. Vehicle System: These are associated with industry groups and specify what kind of vehicle we are discussing, like  a tractor or a trailer.\n",
    "5. Reserved: Specified to be zero.\n",
    "6. Function: This is a code that if it is between 128 and 255, it would be associated with a particular industry group. If it is between 0 and 127, then it is not associated with other parameters.\n",
    "7. ECU Instance: There may be multiple CAs of the same kind (i.e. multiple engines on a boat), so the intance distinguishes them. \n",
    "8. Manufacturer Code: This code is assigned by SAE to different manufacturers.\n",
    "9. Identity Number: The is like a serial number assigned by the manufacturer.\n",
    "\n",
    "For example,\n",
    "![image-3.png](attachment:image-3.png)\n",
    "\n",
    "The J1939DA_2020.xls spreadsheet (i.e. the Digital Annex) has tables for all the NAME fields."
   ]
  },
  {
   "cell_type": "code",
   "execution_count": 2,
   "metadata": {},
   "outputs": [],
   "source": [
    "import struct"
   ]
  },
  {
   "cell_type": "markdown",
   "metadata": {},
   "source": [
    "### NAME Building\n",
    "Let's build a name for a secure gateway device. This device may act as a gateway for the vehicle J1939 network to a telematics device to communicate with a back office server. "
   ]
  },
  {
   "cell_type": "code",
   "execution_count": 36,
   "metadata": {},
   "outputs": [
    {
     "name": "stdout",
     "output_type": "stream",
     "text": [
      "NAME_8 = 0b10010001\n"
     ]
    },
    {
     "data": {
      "text/plain": [
       "b'\\x91'"
      ]
     },
     "execution_count": 36,
     "metadata": {},
     "output_type": "execute_result"
    }
   ],
   "source": [
    "# Start with the first byte\n",
    "# 1 Bit : Arbitrary Address Capable = 1 (true)\n",
    "# 3 Bits: Industry Group (SAE) = 1 (on-highway equipment)\n",
    "# 4 Bits: Vehicle Systems Instance = 1 (the first instance)\n",
    "arbitrary_address_capable_mask = 0b10000000\n",
    "industry_group_mask = 0b01110000\n",
    "veh_sys_instance_mask = 0b00001111\n",
    "\n",
    "arbitrary_address_capable = 1\n",
    "industry_group = 1\n",
    "veh_sys_instance = 1\n",
    "\n",
    "# Construct byte 8 according to J1939-81\n",
    "NAME_8 = arbitrary_address_capable_mask & arbitrary_address_capable << 7\n",
    "NAME_8 |= industry_group_mask & industry_group << 4\n",
    "NAME_8 |= veh_sys_instance_mask & veh_sys_instance\n",
    "print(\"NAME_8 = 0b{:08b}\".format(NAME_8))\n",
    "NAME = struct.pack('B',NAME_8)\n",
    "NAME"
   ]
  },
  {
   "cell_type": "code",
   "execution_count": 30,
   "metadata": {},
   "outputs": [
    {
     "name": "stdout",
     "output_type": "stream",
     "text": [
      "10000000\n",
      "01110000\n",
      "00001111\n"
     ]
    }
   ],
   "source": [
    "#masks show the coverage of bytes \n",
    "print(\"{:08b}\".format(arbitrary_address_capable_mask))\n",
    "print(\"{:08b}\".format(industry_group_mask))\n",
    "print(\"{:08b}\".format(veh_sys_instance_mask))\n"
   ]
  },
  {
   "cell_type": "markdown",
   "metadata": {},
   "source": [
    "## Vehicle Systems and Functions\n",
    "The description of the vehicle systems depends on in industry group. There are 6 industry groups as follows:\n",
    "\n",
    "| Industry Group ID | Industry Group Description |\n",
    "| :-: | :-- |\n",
    "| 0 | Global, applies to all |\n",
    "| 1 | On-Highway Equipment |\n",
    "| 2 | Agricultural and Forestry Equipment |\n",
    "| 3 | Construction Equipment |\n",
    "| 4 | Marine |\n",
    "| 5 | Industrial-Process Control-Stationary (Gen-Sets) |\n",
    "\n",
    "Based on the industry group, there are different systems. Many common systems are global and do not have a specific system. This means many NAME fields for the industrial group and system ID will be zero.\n",
    "\n",
    "| Industry Group ID | Vehicle System ID | Vehicle System Description|\n",
    "| :-: |  :-: |  :- |\n",
    "| 0 | 0\t | Non-specific System |\n",
    "| 1 | 0\t | Non-specific System |\n",
    "| 1 | 1\t | Tractor |\n",
    "| 1 | 2\t | Trailer |\n",
    "| 2 | 0\t | Non-specific System |\n",
    "| 2 | 1\t | Tractor |\n",
    "| 2 | 2\t | Tillage |\n",
    "| 2 | 3\t | Secondary Tillage |\n",
    "| 2 | 4\t | Planters/Seeders |\n",
    "| 2 | 5\t | Fertilizers |\n",
    "| 2 | 6\t | Sprayers |\n",
    "| 2 | 7\t | Harvesters |\n",
    "| 2 | 8\t | Root Harvesters |\n",
    "| 2 | 9\t | Forage |\n",
    "| 2 | 10 | \tIrrigation |\n",
    "| 2 | 11 | \tTransport/Trailer |\n",
    "| 2 | 12 | \tFarm Yard Operations |\n",
    "| 2 | 13 | \tPowered Auxiliary Devices |\n",
    "| 2 | 14 | \tSpecial Crops |\n",
    "| 2 | 15 | \tEarth Work |\n",
    "| 2 | 16 | \tSkidder |\n",
    "| 2 | 17 | \tSensor Systems |\n",
    "| 2 | 19 | \tTimber Harvesters |\n",
    "| 2 | 20 | \tForwarders |\n",
    "| 2 | 21 | \tTimber Loaders |\n",
    "| 2 | 22 | \tTimber Processing Machines |\n",
    "| 2 | 23 | \tMulchers |\n",
    "| 2 | 24 | \tUtility Vehicles |\n",
    "| 2 | 25 | \tSlurry/Manure Applicators |\n",
    "| 2 | 26 | \tFeeders/Mixers |\n",
    "| 2 | 27 | \tWeeders |\n"
   ]
  },
  {
   "cell_type": "code",
   "execution_count": 37,
   "metadata": {},
   "outputs": [
    {
     "name": "stdout",
     "output_type": "stream",
     "text": [
      "NAME_7 = 0b00000100\n"
     ]
    },
    {
     "data": {
      "text/plain": [
       "b'\\x91\\x04'"
      ]
     },
     "execution_count": 37,
     "metadata": {},
     "output_type": "execute_result"
    }
   ],
   "source": [
    "# Let's build Byte 7\n",
    "# 7 Bits: Vehicle System (SAE) \n",
    "# 1 Bit : Reserved (SAE) = 0\n",
    "vehicle_system_mask = 0b11111110\n",
    "vehicle_system = 2 #Global, Non-specific System\n",
    "NAME_7 = vehicle_system_mask & vehicle_system << 1\n",
    "print(\"NAME_7 = 0b{:08b}\".format(NAME_7))\n",
    "NAME += struct.pack('B',NAME_7)\n",
    "NAME"
   ]
  },
  {
   "cell_type": "markdown",
   "metadata": {},
   "source": [
    "### All Industry Group Inclusive NAME Functions \n",
    "There are lists in the J1939 Digital Annex that describes the different functions. The main list is the Global Name Functions, and the second is the Industry Group Specific Name Functions.\n",
    "\n",
    "Here is an example of a table entry in the global list\n",
    "\n",
    "Function ID: 28\n",
    "\n",
    "Function description: Off Vehicle Gateway\n",
    "\n",
    "Notes: ECU for connecting between vehicle network(s) and an off-vehicle system or network, such as fleet management. Connection may be wireless. Performs Gateway functions, i.e., filters messages, translates between protocols. \n",
    "\n",
    "### Industry Group and Vehicle System Dependent NAME Functions \n",
    "Vehicle System is a 7-bit field defined by SAE J1939-81. It is combined with the\n",
    "Industry Group to represent a common name. See J1939 (top-level document) Appendix B, Table\n",
    "B12. Vehicle System provides a common name for a group of functions within a connected network.\n",
    "Examples of Vehicle Systems for currently defined Industry Groups are \"tractor\" in the \"Common” Industry Group, “Trailer” in the On-Highway Industry Group, and planter in the \"Agricultural Equipment” Industry Group.\n",
    "\n"
   ]
  },
  {
   "cell_type": "code",
   "execution_count": 38,
   "metadata": {},
   "outputs": [
    {
     "name": "stdout",
     "output_type": "stream",
     "text": [
      "NAME_6 = 0b00011100\n"
     ]
    },
    {
     "data": {
      "text/plain": [
       "b'\\x91\\x04\\x1c'"
      ]
     },
     "execution_count": 38,
     "metadata": {},
     "output_type": "execute_result"
    }
   ],
   "source": [
    "# Let's build Byte 6\n",
    "# 8 Bits: Function (SAE) \n",
    "\n",
    "vehicle_function_mask = 0xFF\n",
    "vehicle_function = 28 #Off Vehicle Gateway\n",
    "NAME_6 = (vehicle_function_mask & vehicle_function)\n",
    "print(\"NAME_6 = 0b{:08b}\".format(NAME_6))\n",
    "NAME += struct.pack('B',NAME_6)\n",
    "NAME"
   ]
  },
  {
   "cell_type": "code",
   "execution_count": 39,
   "metadata": {},
   "outputs": [
    {
     "name": "stdout",
     "output_type": "stream",
     "text": [
      "NAME_5 = 0b00100001\n"
     ]
    },
    {
     "data": {
      "text/plain": [
       "b'\\x91\\x04\\x1c!'"
      ]
     },
     "execution_count": 39,
     "metadata": {},
     "output_type": "execute_result"
    }
   ],
   "source": [
    "# NAME Byte 5 has the following:\n",
    "# 5 Bits: Function Instance\n",
    "# 3 Bits: ECU Instance\n",
    "function_instance_mask = 0b00011111\n",
    "ecu_instance_mask = 0b11100000\n",
    "\n",
    "function_instance = 1\n",
    "ecu_instance = 1\n",
    "\n",
    "\n",
    "# Construct byte 8 according to J1939-81\n",
    "NAME_5 = ecu_instance_mask & ecu_instance << 5\n",
    "NAME_5 |= function_instance_mask & function_instance\n",
    "print(\"NAME_5 = 0b{:08b}\".format(NAME_5))\n",
    "NAME += struct.pack('B',NAME_5)\n",
    "NAME"
   ]
  },
  {
   "cell_type": "code",
   "execution_count": 54,
   "metadata": {},
   "outputs": [
    {
     "name": "stdout",
     "output_type": "stream",
     "text": [
      "ma_code = 0b00000000000000000000000000101101\n",
      "NAME_ID = 0b00000101101000011110001001000000\n",
      "NAME_ID = 0x05A1E240\n"
     ]
    },
    {
     "data": {
      "text/plain": [
       "b'\\x91\\x04\\x1c!\\xfa\\x01\\xe2@\\x05\\xa1\\xe2@\\x05\\xa1\\xe2@\\x05\\xa1\\xe2@\\x05\\xa1\\xe2@\\x05\\xa1\\xe2@'"
      ]
     },
     "execution_count": 54,
     "metadata": {},
     "output_type": "execute_result"
    }
   ],
   "source": [
    "# Now we can create a 32-bit work comprising the Manufacturer and their serial number.\n",
    "# 11 Bits: Manufacturer Code (SAE)\n",
    "# 21 Bits: Identity\n",
    "\n",
    "manufacturer_code = 45 #This is made up and doesn't have an entry in the table.\n",
    "manufacturer_code_mask = 0xFFE00000\n",
    "\n",
    "identity = 123456\n",
    "identity_mask = 0x001FFFFF\n",
    "\n",
    "NAME_ID = manufacturer_code_mask & manufacturer_code << 21\n",
    "NAME_ID |= identity_mask & identity \n",
    "\n",
    "print(\"ma_code = 0b{:032b}\".format(manufacturer_code)) \n",
    "print(\"NAME_ID = 0b{:032b}\".format(NAME_ID)) \n",
    "print(\"NAME_ID = 0x{:08X}\".format(NAME_ID)) \n",
    "NAME += struct.pack('>L',NAME_ID)\n",
    "NAME"
   ]
  },
  {
   "cell_type": "code",
   "execution_count": 41,
   "metadata": {},
   "outputs": [
    {
     "name": "stdout",
     "output_type": "stream",
     "text": [
      "b'\\x91\\x04\\x1c!\\xfa\\x01\\xe2@'\n",
      "NAME_bytes = 91041C21FA01E240\n",
      "NAME_bytes = 1001000100000100000111000010000111111010000000011110001001000000\n"
     ]
    }
   ],
   "source": [
    "# Create a 64-bit NAME field\n",
    "NAME_bytes = struct.pack(\"4B\",NAME_8,NAME_7,NAME_6,NAME_5)\n",
    "NAME_bytes += struct.pack(\">L\", NAME_ID)\n",
    "print(NAME_bytes)\n",
    "name_int = struct.unpack(\">Q\",NAME_bytes)[0]\n",
    "print(\"NAME_bytes = {:08X}\".format(name_int))\n",
    "print(\"NAME_bytes = {:064b}\".format(name_int))"
   ]
  },
  {
   "cell_type": "markdown",
   "metadata": {},
   "source": [
    "### Preferred Address\n",
    "For a quick address claiming process, ECUs and CAs should have a preferred address. \n",
    "The following are some preferred addresses:\n",
    "\n",
    "*  0\tEngine #1\n",
    "*  1\tEngine #2\n",
    "*  2\tTurbocharger\n",
    "*  3\tTransmission #1\n",
    "*  4\tTransmission #2\n",
    "*  5\tShift Console - Primary\n",
    "*  6\tShift Console - Secondary\n",
    "*  7\tPower TakeOff - (Main or Rear)\n",
    "*  8\tAxle - Steering\n",
    "*  9\tAxle - Drive #1\n",
    "* 10\tAxle - Drive #2\n",
    "* 11\tBrakes - System Controller\n",
    "* 12\tBrakes - Steer Axle\n",
    "* 13\tBrakes - Drive axle #1\n",
    "* 14\tBrakes - Drive Axle #2\n",
    "* 15\tRetarder - Engine\n",
    "* 16\tRetarder - Driveline\n",
    "* 17\tCruise Control\n",
    "* 18\tFuel System\n",
    "* 19\tSteering Controller\n",
    "* 20\tSuspension - Steer Axle\n",
    "* 21\tSuspension - Drive Axle #1\n",
    "* 22\tSuspension - Drive Axle #2\n",
    "* 23\tInstrument Cluster #1\n",
    "* 24\tTrip Recorder\n",
    "* 25\tPassenger-Operator Climate Control #1\n",
    "* 26\tAlternator/Electrical Charging System\n",
    "* 27\tAerodynamic Control\n",
    "* 28\tVehicle Navigation\n",
    "* 29\tVehicle Security\n",
    "* 30\tElectrical System\n",
    "* 31\tStarter System\n",
    "* 32\tTractor-Trailer Bridge #1\n",
    "* 33\tBody Controller\n",
    "* 34\tAuxiliary Valve Control or Engine Air System Valve Control\n",
    "* 35\tHitch Control\n",
    "* 36\tPower TakeOff (Front or Secondary)\n",
    "* 37\tOff Vehicle Gateway\n",
    "* 38\tVirtual Terminal (in cab)\n",
    "* 39\tManagement Computer #1\n",
    "* 40\tCab Display #1\n",
    "* 41\tRetarder, Exhaust, Engine #1\n",
    "* 42\tHeadway Controller\n",
    "* 43\tOn-Board Diagnostic Unit\n",
    "* 44\tRetarder, Exhaust, Engine #2\n",
    "* 45\tEndurance Braking System\n",
    "* 46\tHydraulic Pump Controller\n",
    "* 47\tSuspension - System Controller #1\n",
    "* 48\tPneumatic - System Controller\n",
    "* 49\tCab Controller - Primary\n",
    "* 50\tCab Controller - Secondary\n",
    "* 51\tTire Pressure Controller\n",
    "* 52\tIgnition Control Module #1\n",
    "* 53\tIgnition Control Module #2\n",
    "* 54\tSeat Control #1\n",
    "* 55\tLighting - Operator Controls\n",
    "* 56\tRear Axle Steering Controller #1\n",
    "* 57\tWater Pump Controller\n",
    "* 58\tPassenger-Operator Climate Control #2\n",
    "* 59\tTransmission Display - Primary\n",
    "* 60\tTransmission Display - Secondary\n",
    "* 61\tExhaust Emission Controller\n",
    "* 62\tVehicle Dynamic Stability Controller\n",
    "* 63\tOil Sensor\n",
    "* 64\tSuspension - System Controller #2\n",
    "* 65\tInformation System Controller #1\n",
    "* 66\tRamp Control\n",
    "* 67\tClutch/Converter Unit\n",
    "* 68\tAuxiliary Heater #1\n",
    "* 69\tAuxiliary Heater #2\n",
    "* 70\tEngine Valve Controller\n",
    "* 71\tChassis Controller #1\n",
    "* 72\tChassis Controller #2\n",
    "* 73\tPropulsion Battery Charger\n",
    "* 74\tCommunications Unit, Cellular\n",
    "* 75\tCommunications Unit, Satellite\n",
    "* 76\tCommunications Unit, Radio\n",
    "* 77\tSteering Column Unit\n",
    "* 78\tFan Drive Controller\n",
    "* 79\tSeat Control #2\n",
    "* 80\tParking Brake Controller\n",
    "* 81\tAftertreatment #1 system gas intake\n",
    "* 82\tAftertreatment #1 system gas outlet\n",
    "* 83\tSafety Restraint System\n",
    "* 84\tCab Display #2\n",
    "* 85\tDiesel Particulate Filter Controller\n",
    "* 86\tAftertreatment #2 system gas intake\n",
    "* 87\tAftertreatment #2 system gas outlet\n",
    "* 88\tSafety Restraint System #2\n",
    "* 89\tAtmospheric Sensor\n",
    "* 90\tPowertrain Control Module\n",
    "* 91\tPower Systems Manager\n",
    "* 92\tEngine Injection Control Module\n",
    "* 93\tFire Protection System\n",
    "* 94\tDriver Impairment Device\n",
    "\n",
    "* 128\tthru 247\tUsed for dynamic address assignment\n",
    "\n",
    "* 248\tFile Server / Printer\n",
    "* 249\tOff Board Diagnostic-Service Tool #1\n",
    "* 250\tOff Board Diagnostic-Service Tool #2\n",
    "* 251\tOn-Board Data Logger\n",
    "\n",
    "* 254\tNull Address\n",
    "* 255\tGLOBAL (All-Any Node)\n"
   ]
  },
  {
   "cell_type": "markdown",
   "metadata": {},
   "source": [
    "## Address Claim Procedure\n",
    "The following procedure was adapted from SAE J1939 ECU Programming and Vehicle Bus Simulation by Wilfried Voss\n",
    "\n",
    "![AddressClaimProcedure.svg](AddressClaimProcedure.svg)"
   ]
  },
  {
   "cell_type": "markdown",
   "metadata": {},
   "source": [
    "### Looking for an Address Claim\n",
    "During startup of an ECU on J1939, an Address Claimed Message will often be broadcast. Here's an example.\n",
    "\n",
    "The following command was given from a Linux terminal \n",
    "```\n",
    "candump any | grep 18EE\n",
    "```\n",
    "That gives the following output\n",
    "```\n",
    "  can1  18EEFF00   [8]  06 03 BF 01 00 00 00 10\n",
    "  can1  18EEFF00   [8]  06 03 BF 01 00 00 00 10\n",
    "  can1  18EEFF00   [8]  06 03 BF 01 00 00 00 10\n",
    "```\n",
    "To interpret this message, we start with breaking down the ID. Let's break it into 4 parts: 18 EE FF 00\n",
    "\n",
    "* Priority: 6 (0x18 >> 2)\n",
    "* PGN: 0xEE00 = 60928 (Address Claim)\n",
    "* Destination Address: 0xFF = 255 (Global)\n",
    "* Source Address: 0x00 (Engine #1)\n",
    "\n",
    "Next, we decode the different bytes from the message, which makes up the NAME field.\n",
    "The following table shows the position and interpretation of the data in NAME according to J1939-81.\n",
    "\n",
    "| Byte | Bits | Description | Value |\n",
    "| --- | --- | --- | --- | \n",
    "| Byte 1 | Bits 8-1 | Least significant byte of Identity Number | 0x06 |\n",
    "| Byte 2 | Bits 8-1 | Second byte of Identity Number |0x03|\n",
    "| Byte 3 | Bits 8-6 | Least significant 3 bits of Manufacturer Code | 0xBF |\n",
    "| Byte 3 | Bits 5-1 | Most significant 5 bits of Identity Number | 0xBF  |\n",
    "| Byte 4 | Bits 8-1 | Most significant 8 bits of Manufacturer Code | 0x01 |\n",
    "| Byte 5 | Bits 8-4 | Function Instance | 0x00 |\n",
    "| Byte 5 | Bits 3-1 | ECU Instance | 0x00 |\n",
    "| Byte 6 | Bits 8-1 | Function  | 0x00 |\n",
    "| Byte 7 | Bits 8-2 | Vehicle System  | 0x00 |\n",
    "| Byte 7 | Bit 1 | Reserved | 0x00 |\n",
    "| Byte 8 | Bit 8 | Arbitrary Address Capable | 0x10 |\n",
    "| Byte 8 | Bits 7-5 | Industry Group | 0x10 |\n",
    "| Byte 8 | Bits 4-1 | Vehicle System Instance | 0x10 |\n",
    "\n",
    "Let's parse these a little better.\n",
    "\n"
   ]
  },
  {
   "cell_type": "code",
   "execution_count": 73,
   "metadata": {},
   "outputs": [
    {
     "data": {
      "text/plain": [
       "b'\\x06\\x03\\xbf\\x01\\x00\\x00\\x00\\x10'"
      ]
     },
     "execution_count": 73,
     "metadata": {},
     "output_type": "execute_result"
    }
   ],
   "source": [
    "name_bytes = bytes.fromhex('06 03 BF 01 00 00 00 10')\n",
    "#name_bytes = bytes.fromhex('00 00 60 01 00 81 00 00')\n",
    "name_bytes"
   ]
  },
  {
   "cell_type": "code",
   "execution_count": 74,
   "metadata": {},
   "outputs": [
    {
     "name": "stdout",
     "output_type": "stream",
     "text": [
      "arbitrary_address_capable = 0\n",
      "industry_group = 1\n",
      "veh_sys_instance = 0\n"
     ]
    }
   ],
   "source": [
    "NAME_8 = name_bytes[7]\n",
    "\n",
    "arbitrary_address_capable = (arbitrary_address_capable_mask & NAME_8 ) >> 7\n",
    "print('arbitrary_address_capable =', arbitrary_address_capable)\n",
    "\n",
    "industry_group = (industry_group_mask & NAME_8) >> 4\n",
    "print('industry_group =', industry_group)\n",
    "\n",
    "veh_sys_instance = (veh_sys_instance_mask & NAME_8)\n",
    "print('veh_sys_instance =', veh_sys_instance)"
   ]
  },
  {
   "attachments": {},
   "cell_type": "markdown",
   "metadata": {},
   "source": [
    "The industry group is 1, which is the On-Highway Equipment group.\n",
    "\n",
    "Bytes 7, 6 and 5 are all zeros, which indicates nonspecific vehicle system IDs, and the first instance of the Engine."
   ]
  },
  {
   "cell_type": "code",
   "execution_count": 78,
   "metadata": {},
   "outputs": [
    {
     "name": "stdout",
     "output_type": "stream",
     "text": [
      "NAME_ID = 0b00000001101111110000001100000110\n",
      "manufacturer_code = 13\n",
      "serial_num =  2032390\n"
     ]
    }
   ],
   "source": [
    "NAME_ID = struct.unpack(\"<L\",name_bytes[0:4])[0]\n",
    "manufacturer_code = (manufacturer_code_mask & NAME_ID) >> 21\n",
    "print(\"NAME_ID = 0b{:032b}\".format(NAME_ID)) \n",
    "print('manufacturer_code =', manufacturer_code)\n",
    "\n",
    "serial_num = identity_mask & NAME_ID\n",
    "print('serial_num = ',serial_num)\n"
   ]
  },
  {
   "cell_type": "markdown",
   "metadata": {},
   "source": [
    "The manufacture for 13 is Delco Electronics. The ECU we were connected to was made by Delphi, which used to be Delco."
   ]
  },
  {
   "cell_type": "markdown",
   "metadata": {},
   "source": [
    "### Send an Address Claimed Message\n",
    "The J1939 address claimed message has a pgn of 60928 (0xEE00). \n",
    "\n",
    "Let's craft a message and send it out on the network. We'll try to claim source address 0, which is an engine controller."
   ]
  },
  {
   "cell_type": "code",
   "execution_count": 79,
   "metadata": {},
   "outputs": [
    {
     "ename": "AttributeError",
     "evalue": "module 'socket' has no attribute 'PF_CAN'",
     "output_type": "error",
     "traceback": [
      "\u001b[1;31m---------------------------------------------------------------------------\u001b[0m",
      "\u001b[1;31mAttributeError\u001b[0m                            Traceback (most recent call last)",
      "\u001b[1;32m<ipython-input-79-93d7ae3c195f>\u001b[0m in \u001b[0;36m<module>\u001b[1;34m\u001b[0m\n\u001b[0;32m      3\u001b[0m \u001b[1;33m\u001b[0m\u001b[0m\n\u001b[0;32m      4\u001b[0m \u001b[1;31m# Open a socket and bind to it from SocketCAN\u001b[0m\u001b[1;33m\u001b[0m\u001b[1;33m\u001b[0m\u001b[1;33m\u001b[0m\u001b[0m\n\u001b[1;32m----> 5\u001b[1;33m \u001b[0msock\u001b[0m \u001b[1;33m=\u001b[0m \u001b[0msocket\u001b[0m\u001b[1;33m.\u001b[0m\u001b[0msocket\u001b[0m\u001b[1;33m(\u001b[0m\u001b[0msocket\u001b[0m\u001b[1;33m.\u001b[0m\u001b[0mPF_CAN\u001b[0m\u001b[1;33m,\u001b[0m \u001b[0msocket\u001b[0m\u001b[1;33m.\u001b[0m\u001b[0mSOCK_RAW\u001b[0m\u001b[1;33m,\u001b[0m \u001b[0msocket\u001b[0m\u001b[1;33m.\u001b[0m\u001b[0mCAN_RAW\u001b[0m\u001b[1;33m)\u001b[0m\u001b[1;33m\u001b[0m\u001b[1;33m\u001b[0m\u001b[0m\n\u001b[0m\u001b[0;32m      6\u001b[0m \u001b[1;33m\u001b[0m\u001b[0m\n\u001b[0;32m      7\u001b[0m \u001b[1;31m#Change this interface to match your desired connection\u001b[0m\u001b[1;33m\u001b[0m\u001b[1;33m\u001b[0m\u001b[1;33m\u001b[0m\u001b[0m\n",
      "\u001b[1;31mAttributeError\u001b[0m: module 'socket' has no attribute 'PF_CAN'"
     ]
    }
   ],
   "source": [
    "import socket\n",
    "import struct\n",
    "\n",
    "# Open a socket and bind to it from SocketCAN\n",
    "sock = socket.socket(socket.PF_CAN, socket.SOCK_RAW, socket.CAN_RAW)\n",
    "\n",
    "#Change this interface to match your desired connection\n",
    "interface = \"can1\"\n",
    "\n",
    "# Bind to the interface\n",
    "sock.bind((interface,))\n",
    "\n",
    "# To match the socketCAN data structure, the following struct format can be used:\n",
    "can_frame_format = \"<lB3x8s\""
   ]
  },
  {
   "cell_type": "code",
   "execution_count": 80,
   "metadata": {},
   "outputs": [
    {
     "ename": "AttributeError",
     "evalue": "module 'socket' has no attribute 'CAN_EFF_FLAG'",
     "output_type": "error",
     "traceback": [
      "\u001b[1;31m---------------------------------------------------------------------------\u001b[0m",
      "\u001b[1;31mAttributeError\u001b[0m                            Traceback (most recent call last)",
      "\u001b[1;32m<ipython-input-80-1bcecabc0c5e>\u001b[0m in \u001b[0;36m<module>\u001b[1;34m\u001b[0m\n\u001b[0;32m      4\u001b[0m \u001b[1;33m\u001b[0m\u001b[0m\n\u001b[0;32m      5\u001b[0m \u001b[1;31m#Set the extended frame format bit.\u001b[0m\u001b[1;33m\u001b[0m\u001b[1;33m\u001b[0m\u001b[1;33m\u001b[0m\u001b[0m\n\u001b[1;32m----> 6\u001b[1;33m \u001b[0mcan_id\u001b[0m \u001b[1;33m|=\u001b[0m \u001b[0msocket\u001b[0m\u001b[1;33m.\u001b[0m\u001b[0mCAN_EFF_FLAG\u001b[0m\u001b[1;33m\u001b[0m\u001b[1;33m\u001b[0m\u001b[0m\n\u001b[0m\u001b[0;32m      7\u001b[0m \u001b[1;33m\u001b[0m\u001b[0m\n\u001b[0;32m      8\u001b[0m \u001b[0mcan_data\u001b[0m \u001b[1;33m=\u001b[0m \u001b[0mname_bytes\u001b[0m\u001b[1;33m\u001b[0m\u001b[1;33m\u001b[0m\u001b[0m\n",
      "\u001b[1;31mAttributeError\u001b[0m: module 'socket' has no attribute 'CAN_EFF_FLAG'"
     ]
    }
   ],
   "source": [
    "# Let's send the same message that we recieved from the engine controller to \n",
    "# see what happens\n",
    "can_id = 0x18EEFF00\n",
    "\n",
    "#Set the extended frame format bit.\n",
    "can_id |= socket.CAN_EFF_FLAG\n",
    "    \n",
    "can_data = name_bytes\n",
    "\n",
    "can_dlc = min(len(can_data),8)\n",
    "\n",
    "can_packet = struct.pack(can_frame_format, can_id, can_dlc, can_data[:can_dlc] )\n",
    "print(can_packet)\n",
    "    \n",
    "#Send out the CAN frame\n",
    "sock.send(can_packet)"
   ]
  },
  {
   "cell_type": "code",
   "execution_count": null,
   "metadata": {},
   "outputs": [],
   "source": []
  }
 ],
 "metadata": {
  "kernelspec": {
   "display_name": "Python 3",
   "language": "python",
   "name": "python3"
  },
  "language_info": {
   "codemirror_mode": {
    "name": "ipython",
    "version": 3
   },
   "file_extension": ".py",
   "mimetype": "text/x-python",
   "name": "python",
   "nbconvert_exporter": "python",
   "pygments_lexer": "ipython3",
   "version": "3.7.4"
  }
 },
 "nbformat": 4,
 "nbformat_minor": 2
}
