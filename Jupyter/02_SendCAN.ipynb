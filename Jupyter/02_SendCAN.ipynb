{
 "cells": [
  {
   "cell_type": "markdown",
   "metadata": {},
   "source": [
    "# <center> Lab 3-2: Test Send CAN\n",
    "## <center> ENGR 580A2: Secure Vehicle and Industrial Networking\n",
    "## <center><img src=\"https://www.engr.colostate.edu/~jdaily/Systems-EN-CSU-1-C357.svg\" width=\"600\" />\n",
    "### <center> Instructor: Dr. Jeremy Daily<br>Fall 2020"
   ]
  },
  {
   "cell_type": "markdown",
   "metadata": {},
   "source": [
    "## Prerequisites\n",
    "Login tip: Send a keepalive signal every 60 seconds from the connection menu of PuTTy.\n",
    "\n",
    "This notebook must be run on a Linux machine with SocketCAN enabled.\n",
    "```\n",
    "sudo ip link add dev vcan1 type vcan\n",
    "sudo ip link set vcan1 up\n",
    "```\n",
    "\n",
    "If you are running from PuTTy through Windows, then be sure to start the Jupyter server with the following commands:\n",
    "\n",
    "```\n",
    "jupyter notebook --ip cybertruck1.engr.colostate.edu --no-browser\n",
    "```\n",
    "\n",
    "or for the Beagle Bone Black connected by USB:\n",
    "```\n",
    "jupyter notebook --ip 192.168.7.2 --no-browser\n",
    "```\n",
    "Once these commands are successful, there will be a tokenize URL to paste into your browser. Note: this is not a secure connection, so be sure you are behind a firewall.\n",
    "\n",
    "\n",
    "Be sure can-utils is installed:\n",
    "```\n",
    "sudo apt install can-utils\n",
    "```"
   ]
  },
  {
   "cell_type": "code",
   "execution_count": 8,
   "metadata": {},
   "outputs": [
    {
     "name": "stdout",
     "output_type": "stream",
     "text": [
      "b'\\xff\\xff\\xff\\x9f\\x04\\x00\\x00\\x00eagr\\x00\\x00\\x00\\x00'\n",
      "b'\\xff\\xff\\xff\\x9f\\x04\\x00\\x00\\x00eagr\\x00\\x00\\x00\\x00'\n",
      "b'\\xff\\xff\\xff\\x9f\\x04\\x00\\x00\\x00eagr\\x00\\x00\\x00\\x00'\n",
      "b'\\xff\\xff\\xff\\x9f\\x04\\x00\\x00\\x00eagr\\x00\\x00\\x00\\x00'\n",
      "b'\\xff\\xff\\xff\\x9f\\x04\\x00\\x00\\x00eagr\\x00\\x00\\x00\\x00'\n",
      "b'\\xff\\xff\\xff\\x9f\\x04\\x00\\x00\\x00eagr\\x00\\x00\\x00\\x00'\n",
      "b'\\xff\\xff\\xff\\x9f\\x04\\x00\\x00\\x00eagr\\x00\\x00\\x00\\x00'\n",
      "b'\\xff\\xff\\xff\\x9f\\x04\\x00\\x00\\x00eagr\\x00\\x00\\x00\\x00'\n",
      "b'\\xff\\xff\\xff\\x9f\\x04\\x00\\x00\\x00eagr\\x00\\x00\\x00\\x00'\n",
      "b'\\xff\\xff\\xff\\x9f\\x04\\x00\\x00\\x00eagr\\x00\\x00\\x00\\x00'\n",
      "b'\\xff\\xff\\xff\\x9f\\x04\\x00\\x00\\x00eagr\\x00\\x00\\x00\\x00'\n",
      "b'\\xff\\xff\\xff\\x9f\\x04\\x00\\x00\\x00eagr\\x00\\x00\\x00\\x00'\n",
      "b'\\xff\\xff\\xff\\x9f\\x04\\x00\\x00\\x00eagr\\x00\\x00\\x00\\x00'\n",
      "b'\\xff\\xff\\xff\\x9f\\x04\\x00\\x00\\x00eagr\\x00\\x00\\x00\\x00'\n",
      "b'\\xff\\xff\\xff\\x9f\\x04\\x00\\x00\\x00eagr\\x00\\x00\\x00\\x00'\n",
      "b'\\xff\\xff\\xff\\x9f\\x04\\x00\\x00\\x00eagr\\x00\\x00\\x00\\x00'\n",
      "b'\\xff\\xff\\xff\\x9f\\x04\\x00\\x00\\x00eagr\\x00\\x00\\x00\\x00'\n",
      "b'\\xff\\xff\\xff\\x9f\\x04\\x00\\x00\\x00eagr\\x00\\x00\\x00\\x00'\n",
      "b'\\xff\\xff\\xff\\x9f\\x04\\x00\\x00\\x00eagr\\x00\\x00\\x00\\x00'\n",
      "b'\\xff\\xff\\xff\\x9f\\x04\\x00\\x00\\x00eagr\\x00\\x00\\x00\\x00'\n",
      "b'\\xff\\xff\\xff\\x9f\\x04\\x00\\x00\\x00eagr\\x00\\x00\\x00\\x00'\n",
      "b'\\xff\\xff\\xff\\x9f\\x04\\x00\\x00\\x00eagr\\x00\\x00\\x00\\x00'\n",
      "b'\\xff\\xff\\xff\\x9f\\x04\\x00\\x00\\x00eagr\\x00\\x00\\x00\\x00'\n",
      "b'\\xff\\xff\\xff\\x9f\\x04\\x00\\x00\\x00eagr\\x00\\x00\\x00\\x00'\n",
      "b'\\xff\\xff\\xff\\x9f\\x04\\x00\\x00\\x00eagr\\x00\\x00\\x00\\x00'\n"
     ]
    }
   ],
   "source": [
    "#!/usr/bin/python3\n",
    "import socket\n",
    "import struct\n",
    "\n",
    "# Open a socket and bind to it from SocketCAN\n",
    "sock = socket.socket(socket.PF_CAN, socket.SOCK_RAW, socket.CAN_RAW)\n",
    "\n",
    "#Change this interface to match your desired connection\n",
    "interface = \"vcan1\"\n",
    "\n",
    "# Bind to the interface\n",
    "sock.bind((interface,))\n",
    "\n",
    "# To match the socketCAN data structure, the following struct format can be used:\n",
    "can_frame_format = \"<LB3x8s\"\n",
    "\n",
    "for i in range(25):\n",
    "    # Define the CAN Arbitration ID\n",
    "    can_id = 0x1FFFFFFF \n",
    "    \n",
    "    #Set the extended frame format bit.\n",
    "    can_id |= socket.CAN_EFF_FLAG\n",
    "    \n",
    "    can_data = b'eagr' \n",
    "    \n",
    "    #The data length code cannot be larger than 8\n",
    "    can_dlc = min(len(can_data),8)\n",
    "    \n",
    "    #Pack the information into 16 bytes\n",
    "    can_packet = struct.pack(can_frame_format, can_id, can_dlc, can_data[:can_dlc] )\n",
    "    print(can_packet)\n",
    "    \n",
    "    #Send out the CAN frame\n",
    "    sock.send(can_packet)"
   ]
  },
  {
   "cell_type": "markdown",
   "metadata": {},
   "source": [
    "## Testing and Verification\n",
    "Open another terminal on the server where the interface exists. From this terminal, enter the command:\n",
    "```\n",
    "candump any |grep FFFFFF\n",
    "```\n",
    "The output should look something like this when CAN messages are sent:\n",
    "```\n",
    "  vcan1  1FFFFFFF   [7]  4A 65 72 65 6D 79 00\n",
    "  vcan1  1FFFFFFF   [7]  4A 65 72 65 6D 79 01\n",
    "  vcan1  1FFFFFFF   [7]  4A 65 72 65 6D 79 02\n",
    "  vcan1  1FFFFFFF   [7]  4A 65 72 65 6D 79 03\n",
    "  vcan1  1FFFFFFF   [7]  4A 65 72 65 6D 79 04\n",
    "  vcan1  1FFFFFFF   [7]  4A 65 72 65 6D 79 05\n",
    "  vcan1  1FFFFFFF   [7]  4A 65 72 65 6D 79 06\n",
    "  vcan1  1FFFFFFF   [7]  4A 65 72 65 6D 79 07\n",
    "  vcan1  1FFFFFFF   [7]  4A 65 72 65 6D 79 08\n",
    "  vcan1  1FFFFFFF   [7]  4A 65 72 65 6D 79 09\n",
    "  vcan1  1FFFFFFF   [7]  4A 65 72 65 6D 79 0A\n",
    "  vcan1  1FFFFFFF   [7]  4A 65 72 65 6D 79 0B\n",
    "  vcan1  1FFFFFFF   [7]  4A 65 72 65 6D 79 0C\n",
    "  vcan1  1FFFFFFF   [7]  4A 65 72 65 6D 79 0D\n",
    "  vcan1  1FFFFFFF   [7]  4A 65 72 65 6D 79 0E\n",
    "  vcan1  1FFFFFFF   [7]  4A 65 72 65 6D 79 0F\n",
    "  vcan1  1FFFFFFF   [7]  4A 65 72 65 6D 79 10\n",
    "  vcan1  1FFFFFFF   [7]  4A 65 72 65 6D 79 11\n",
    "  vcan1  1FFFFFFF   [7]  4A 65 72 65 6D 79 12\n",
    "  vcan1  1FFFFFFF   [7]  4A 65 72 65 6D 79 13\n",
    "  vcan1  1FFFFFFF   [7]  4A 65 72 65 6D 79 14\n",
    "  vcan1  1FFFFFFF   [7]  4A 65 72 65 6D 79 15\n",
    "  vcan1  1FFFFFFF   [7]  4A 65 72 65 6D 79 16\n",
    "  vcan1  1FFFFFFF   [7]  4A 65 72 65 6D 79 17\n",
    "  vcan1  1FFFFFFF   [7]  4A 65 72 65 6D 79 18\n",
    "```\n"
   ]
  },
  {
   "cell_type": "markdown",
   "metadata": {},
   "source": [
    "Now we have shown that we can send CAN data. Let's start looking at how we can use it for things like J1939."
   ]
  }
 ],
 "metadata": {
  "kernelspec": {
   "display_name": "Python 3",
   "language": "python",
   "name": "python3"
  },
  "language_info": {
   "codemirror_mode": {
    "name": "ipython",
    "version": 3
   },
   "file_extension": ".py",
   "mimetype": "text/x-python",
   "name": "python",
   "nbconvert_exporter": "python",
   "pygments_lexer": "ipython3",
   "version": "3.8.5"
  }
 },
 "nbformat": 4,
 "nbformat_minor": 4
}
