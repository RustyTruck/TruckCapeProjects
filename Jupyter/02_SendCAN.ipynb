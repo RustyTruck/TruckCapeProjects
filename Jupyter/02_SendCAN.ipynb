{
 "cells": [
  {
   "cell_type": "markdown",
   "metadata": {},
   "source": [
    "# <center> Lab 3-2: Test Send CAN\n",
    "## <center> ENGR 580A2: Secure Vehicle and Industrial Networking\n",
    "## <center><img src=\"https://www.engr.colostate.edu/~jdaily/Systems-EN-CSU-1-C357.svg\" width=\"600\" />\n",
    "### <center> Instructor: Dr. Jeremy Daily<br>Fall 2020"
   ]
  },
  {
   "cell_type": "markdown",
   "metadata": {},
   "source": [
    "## Prerequisites\n",
    "Login tip: Send a keepalive signal every 60 seconds from the connection menu of PuTTy.\n",
    "\n",
    "This notebook must be run on a Linux machine with SocketCAN enabled.\n",
    "```\n",
    "sudo ip link add dev vcan1 type vcan\n",
    "sudo ip link set vcan1 up\n",
    "```\n",
    "\n",
    "If you are running from PuTTy through Windows, then be sure to start the Jupyter server with the following commands:\n",
    "\n",
    "```\n",
    "jupyter notebook --ip cybertruck1.engr.colostate.edu --no-browser\n",
    "```\n",
    "\n",
    "or for the Beagle Bone Black connected by USB:\n",
    "```\n",
    "jupyter notebook --ip 192.168.7.2 --no-browser\n",
    "```\n",
    "Once these commands are successful, there will be a tokenize URL to paste into your browser. Note: this is not a secure connection, so be sure you are behind a firewall.\n",
    "\n",
    "\n",
    "Be sure can-utils is installed:\n",
    "```\n",
    "sudo apt install can-utils\n",
    "```"
   ]
  },
  {
   "cell_type": "code",
   "execution_count": 1,
   "metadata": {},
   "outputs": [
    {
     "ename": "OSError",
     "evalue": "[Errno 91] Protocol wrong type for socket",
     "output_type": "error",
     "traceback": [
      "\u001b[0;31m---------------------------------------------------------------------------\u001b[0m",
      "\u001b[0;31mOSError\u001b[0m                                   Traceback (most recent call last)",
      "\u001b[0;32m<ipython-input-1-2bebade8087d>\u001b[0m in \u001b[0;36m<module>\u001b[0;34m\u001b[0m\n\u001b[1;32m      4\u001b[0m \u001b[0;34m\u001b[0m\u001b[0m\n\u001b[1;32m      5\u001b[0m \u001b[0;31m# Open a socket and bind to it from SocketCAN\u001b[0m\u001b[0;34m\u001b[0m\u001b[0;34m\u001b[0m\u001b[0;34m\u001b[0m\u001b[0m\n\u001b[0;32m----> 6\u001b[0;31m \u001b[0msock\u001b[0m \u001b[0;34m=\u001b[0m \u001b[0msocket\u001b[0m\u001b[0;34m.\u001b[0m\u001b[0msocket\u001b[0m\u001b[0;34m(\u001b[0m\u001b[0msocket\u001b[0m\u001b[0;34m.\u001b[0m\u001b[0mPF_CAN\u001b[0m\u001b[0;34m,\u001b[0m \u001b[0msocket\u001b[0m\u001b[0;34m.\u001b[0m\u001b[0mSOCK_RAW\u001b[0m\u001b[0;34m,\u001b[0m \u001b[0msocket\u001b[0m\u001b[0;34m.\u001b[0m\u001b[0mCAN_BCM\u001b[0m\u001b[0;34m)\u001b[0m\u001b[0;34m\u001b[0m\u001b[0;34m\u001b[0m\u001b[0m\n\u001b[0m\u001b[1;32m      7\u001b[0m \u001b[0;34m\u001b[0m\u001b[0m\n\u001b[1;32m      8\u001b[0m \u001b[0;31m#Change this interface to match your desired connection\u001b[0m\u001b[0;34m\u001b[0m\u001b[0;34m\u001b[0m\u001b[0;34m\u001b[0m\u001b[0m\n",
      "\u001b[0;32m/usr/lib/python3.7/socket.py\u001b[0m in \u001b[0;36m__init__\u001b[0;34m(self, family, type, proto, fileno)\u001b[0m\n\u001b[1;32m    149\u001b[0m             \u001b[0;32mif\u001b[0m \u001b[0mproto\u001b[0m \u001b[0;34m==\u001b[0m \u001b[0;34m-\u001b[0m\u001b[0;36m1\u001b[0m\u001b[0;34m:\u001b[0m\u001b[0;34m\u001b[0m\u001b[0;34m\u001b[0m\u001b[0m\n\u001b[1;32m    150\u001b[0m                 \u001b[0mproto\u001b[0m \u001b[0;34m=\u001b[0m \u001b[0;36m0\u001b[0m\u001b[0;34m\u001b[0m\u001b[0;34m\u001b[0m\u001b[0m\n\u001b[0;32m--> 151\u001b[0;31m         \u001b[0m_socket\u001b[0m\u001b[0;34m.\u001b[0m\u001b[0msocket\u001b[0m\u001b[0;34m.\u001b[0m\u001b[0m__init__\u001b[0m\u001b[0;34m(\u001b[0m\u001b[0mself\u001b[0m\u001b[0;34m,\u001b[0m \u001b[0mfamily\u001b[0m\u001b[0;34m,\u001b[0m \u001b[0mtype\u001b[0m\u001b[0;34m,\u001b[0m \u001b[0mproto\u001b[0m\u001b[0;34m,\u001b[0m \u001b[0mfileno\u001b[0m\u001b[0;34m)\u001b[0m\u001b[0;34m\u001b[0m\u001b[0;34m\u001b[0m\u001b[0m\n\u001b[0m\u001b[1;32m    152\u001b[0m         \u001b[0mself\u001b[0m\u001b[0;34m.\u001b[0m\u001b[0m_io_refs\u001b[0m \u001b[0;34m=\u001b[0m \u001b[0;36m0\u001b[0m\u001b[0;34m\u001b[0m\u001b[0;34m\u001b[0m\u001b[0m\n\u001b[1;32m    153\u001b[0m         \u001b[0mself\u001b[0m\u001b[0;34m.\u001b[0m\u001b[0m_closed\u001b[0m \u001b[0;34m=\u001b[0m \u001b[0;32mFalse\u001b[0m\u001b[0;34m\u001b[0m\u001b[0;34m\u001b[0m\u001b[0m\n",
      "\u001b[0;31mOSError\u001b[0m: [Errno 91] Protocol wrong type for socket"
     ]
    }
   ],
   "source": [
    "#!/usr/bin/python3\n",
    "import socket\n",
    "import struct\n",
    "\n",
    "# Open a socket and bind to it from SocketCAN\n",
    "sock = socket.socket(socket.PF_CAN, socket.SOCK_RAW, socket.CAN_BCM)\n",
    "\n",
    "#Change this interface to match your desired connection\n",
    "interface = \"vcan1\"\n",
    "\n",
    "# Bind to the interface\n",
    "sock.bind((interface,))\n",
    "\n",
    "# To match the socketCAN data structure, the following struct format can be used:\n",
    "can_frame_format = \"<lB3x8s\"\n",
    "\n",
    "for i in range(25):\n",
    "    # Define the CAN Arbitration ID\n",
    "    can_id = 0x1FFFFFFF\n",
    "    #Set the extended frame format bit.\n",
    "    can_id |= socket.CAN_EFF_FLAG\n",
    "    \n",
    "    can_data = struct.pack(\"B\",i) + b'eagr1234567890' \n",
    "    \n",
    "    #The data length code cannot be larger than 8\n",
    "    can_dlc = min(len(can_data),8)\n",
    "    \n",
    "    #Pack the information into 16 bytes\n",
    "    can_packet = struct.pack(can_frame_format, can_id, can_dlc, can_data[:can_dlc] )\n",
    "    print(can_packet)\n",
    "    \n",
    "    #Send out the CAN frame\n",
    "    sock.send(can_packet)"
   ]
  },
  {
   "cell_type": "markdown",
   "metadata": {},
   "source": [
    "## Testing and Verification\n",
    "Open another terminal on the server where the interface exists. From this terminal, enter the command:\n",
    "```\n",
    "candump any |grep FFFFFF\n",
    "```\n",
    "The output should look something like this when CAN messages are sent:\n",
    "```\n",
    "  vcan1  1FFFFFFF   [8]  00 65 61 67 72 31 32 33\n",
    "  vcan1  1FFFFFFF   [8]  01 65 61 67 72 31 32 33\n",
    "  vcan1  1FFFFFFF   [8]  02 65 61 67 72 31 32 33\n",
    "  vcan1  1FFFFFFF   [8]  03 65 61 67 72 31 32 33\n",
    "  vcan1  1FFFFFFF   [8]  04 65 61 67 72 31 32 33\n",
    "  vcan1  1FFFFFFF   [8]  05 65 61 67 72 31 32 33\n",
    "  vcan1  1FFFFFFF   [8]  06 65 61 67 72 31 32 33\n",
    "  vcan1  1FFFFFFF   [8]  07 65 61 67 72 31 32 33\n",
    "  vcan1  1FFFFFFF   [8]  08 65 61 67 72 31 32 33\n",
    "  vcan1  1FFFFFFF   [8]  09 65 61 67 72 31 32 33\n",
    "  vcan1  1FFFFFFF   [8]  0A 65 61 67 72 31 32 33\n",
    "  vcan1  1FFFFFFF   [8]  0B 65 61 67 72 31 32 33\n",
    "  vcan1  1FFFFFFF   [8]  0C 65 61 67 72 31 32 33\n",
    "  vcan1  1FFFFFFF   [8]  0D 65 61 67 72 31 32 33\n",
    "  vcan1  1FFFFFFF   [8]  0E 65 61 67 72 31 32 33\n",
    "  vcan1  1FFFFFFF   [8]  0F 65 61 67 72 31 32 33\n",
    "  vcan1  1FFFFFFF   [8]  10 65 61 67 72 31 32 33\n",
    "  vcan1  1FFFFFFF   [8]  11 65 61 67 72 31 32 33\n",
    "  vcan1  1FFFFFFF   [8]  12 65 61 67 72 31 32 33\n",
    "  vcan1  1FFFFFFF   [8]  13 65 61 67 72 31 32 33\n",
    "  vcan1  1FFFFFFF   [8]  14 65 61 67 72 31 32 33\n",
    "  vcan1  1FFFFFFF   [8]  15 65 61 67 72 31 32 33\n",
    "  vcan1  1FFFFFFF   [8]  16 65 61 67 72 31 32 33\n",
    "  vcan1  1FFFFFFF   [8]  17 65 61 67 72 31 32 33\n",
    "  vcan1  1FFFFFFF   [8]  18 65 61 67 72 31 32 33\n",
    "\n",
    "```\n"
   ]
  },
  {
   "cell_type": "markdown",
   "metadata": {},
   "source": [
    "Now we have shown that we can send CAN data. Let's start looking at how we can use it for things like J1939."
   ]
  }
 ],
 "metadata": {
  "kernelspec": {
   "display_name": "Python 3",
   "language": "python",
   "name": "python3"
  },
  "language_info": {
   "codemirror_mode": {
    "name": "ipython",
    "version": 3
   },
   "file_extension": ".py",
   "mimetype": "text/x-python",
   "name": "python",
   "nbconvert_exporter": "python",
   "pygments_lexer": "ipython3",
   "version": "3.7.3"
  }
 },
 "nbformat": 4,
 "nbformat_minor": 4
}
